{
 "cells": [
  {
   "cell_type": "code",
   "execution_count": 1,
   "metadata": {},
   "outputs": [],
   "source": [
    "import numpy as np\n",
    "import pandas as pd\n",
    "import matplotlib.pyplot as plt\n",
    "import seaborn as sns\n",
    "from sklearn.model_selection import train_test_split\n",
    "from sklearn.preprocessing import StandardScaler, LabelEncoder, MinMaxScaler, OneHotEncoder, FunctionTransformer, PolynomialFeatures\n",
    "from sklearn.linear_model import LogisticRegression, LinearRegression\n",
    "from sklearn.compose import ColumnTransformer\n",
    "from sklearn.decomposition import PCA\n",
    "from sklearn.impute import SimpleImputer\n",
    "from sklearn.pipeline import Pipeline, make_pipeline\n",
    "from sklearn.model_selection import RandomizedSearchCV, GridSearchCV, ShuffleSplit\n",
    "from sklearn.metrics import r2_score, f1_score, mean_squared_error as mse\n",
    "from scipy.stats import uniform"
   ]
  },
  {
   "cell_type": "code",
   "execution_count": 2,
   "metadata": {},
   "outputs": [
    {
     "data": {
      "text/html": [
       "<div>\n",
       "<style scoped>\n",
       "    .dataframe tbody tr th:only-of-type {\n",
       "        vertical-align: middle;\n",
       "    }\n",
       "\n",
       "    .dataframe tbody tr th {\n",
       "        vertical-align: top;\n",
       "    }\n",
       "\n",
       "    .dataframe thead th {\n",
       "        text-align: right;\n",
       "    }\n",
       "</style>\n",
       "<table border=\"1\" class=\"dataframe\">\n",
       "  <thead>\n",
       "    <tr style=\"text-align: right;\">\n",
       "      <th></th>\n",
       "      <th>Make</th>\n",
       "      <th>Model</th>\n",
       "      <th>Year</th>\n",
       "      <th>Style</th>\n",
       "      <th>Distance</th>\n",
       "      <th>Engine_capacity(cm3)</th>\n",
       "      <th>Fuel_type</th>\n",
       "      <th>Transmission</th>\n",
       "      <th>Price(euro)</th>\n",
       "      <th>km_year</th>\n",
       "    </tr>\n",
       "  </thead>\n",
       "  <tbody>\n",
       "    <tr>\n",
       "      <th>0</th>\n",
       "      <td>Toyota</td>\n",
       "      <td>Prius</td>\n",
       "      <td>2011</td>\n",
       "      <td>Hatchback</td>\n",
       "      <td>195000.0</td>\n",
       "      <td>1800.0</td>\n",
       "      <td>Hybrid</td>\n",
       "      <td>Automatic</td>\n",
       "      <td>7750.0</td>\n",
       "      <td>17727.272727</td>\n",
       "    </tr>\n",
       "    <tr>\n",
       "      <th>1</th>\n",
       "      <td>Renault</td>\n",
       "      <td>Grand Scenic</td>\n",
       "      <td>2014</td>\n",
       "      <td>Universal</td>\n",
       "      <td>135000.0</td>\n",
       "      <td>1500.0</td>\n",
       "      <td>Diesel</td>\n",
       "      <td>Manual</td>\n",
       "      <td>8550.0</td>\n",
       "      <td>16875.000000</td>\n",
       "    </tr>\n",
       "    <tr>\n",
       "      <th>2</th>\n",
       "      <td>Renault</td>\n",
       "      <td>Laguna</td>\n",
       "      <td>2012</td>\n",
       "      <td>Universal</td>\n",
       "      <td>110000.0</td>\n",
       "      <td>1500.0</td>\n",
       "      <td>Diesel</td>\n",
       "      <td>Manual</td>\n",
       "      <td>6550.0</td>\n",
       "      <td>11000.000000</td>\n",
       "    </tr>\n",
       "    <tr>\n",
       "      <th>3</th>\n",
       "      <td>Opel</td>\n",
       "      <td>Astra</td>\n",
       "      <td>2006</td>\n",
       "      <td>Universal</td>\n",
       "      <td>200000.0</td>\n",
       "      <td>1600.0</td>\n",
       "      <td>Metan/Propan</td>\n",
       "      <td>Manual</td>\n",
       "      <td>4100.0</td>\n",
       "      <td>12500.000000</td>\n",
       "    </tr>\n",
       "    <tr>\n",
       "      <th>4</th>\n",
       "      <td>Mercedes</td>\n",
       "      <td>Vito</td>\n",
       "      <td>2000</td>\n",
       "      <td>Microvan</td>\n",
       "      <td>300000.0</td>\n",
       "      <td>2200.0</td>\n",
       "      <td>Diesel</td>\n",
       "      <td>Manual</td>\n",
       "      <td>3490.0</td>\n",
       "      <td>13636.363636</td>\n",
       "    </tr>\n",
       "  </tbody>\n",
       "</table>\n",
       "</div>"
      ],
      "text/plain": [
       "       Make         Model  Year      Style  Distance  Engine_capacity(cm3)  \\\n",
       "0    Toyota         Prius  2011  Hatchback  195000.0                1800.0   \n",
       "1   Renault  Grand Scenic  2014  Universal  135000.0                1500.0   \n",
       "2   Renault        Laguna  2012  Universal  110000.0                1500.0   \n",
       "3      Opel         Astra  2006  Universal  200000.0                1600.0   \n",
       "4  Mercedes          Vito  2000   Microvan  300000.0                2200.0   \n",
       "\n",
       "      Fuel_type Transmission  Price(euro)       km_year  \n",
       "0        Hybrid    Automatic       7750.0  17727.272727  \n",
       "1        Diesel       Manual       8550.0  16875.000000  \n",
       "2        Diesel       Manual       6550.0  11000.000000  \n",
       "3  Metan/Propan       Manual       4100.0  12500.000000  \n",
       "4        Diesel       Manual       3490.0  13636.363636  "
      ]
     },
     "execution_count": 2,
     "metadata": {},
     "output_type": "execute_result"
    }
   ],
   "source": [
    "# Data\n",
    "\n",
    "cars_df = pd.read_csv('datasets/cars_moldova_cleaned.csv', sep=',')\n",
    "cars_df.head()"
   ]
  },
  {
   "cell_type": "code",
   "execution_count": 3,
   "metadata": {},
   "outputs": [],
   "source": [
    "# Helpers\n",
    "\n",
    "RANDOM_STATE = 42\n",
    "\n",
    "num_cols = cars_df.select_dtypes(include=np.number).columns\n",
    "cat_cols = cars_df.select_dtypes(exclude=np.number).columns\n",
    "\n",
    "def rmse(y_true, y_hat):\n",
    "    return np.sqrt(mse(y_true, y_hat))\n",
    "\n",
    "def display_metrics(*, y_hat, y_true, metrics=[mse, rmse, r2_score]):\n",
    "    for metric in metrics:\n",
    "        print(f'{metric.__name__}: {metric(y_true, y_hat)}')\n",
    "        \n",
    "def display_cv_result(pipe, params=None):\n",
    "    all_params = ['mean_test_score', 'std_test_score', 'rank_test_score']\n",
    "    if params:\n",
    "        all_params = (params or []) + all_params\n",
    "    parameters_df = pd.DataFrame(pipe.cv_results_)[all_params]\n",
    "    cm = sns.light_palette(\"orange\", as_cmap=True)\n",
    "    hl = parameters_df.sort_values(by='rank_test_score').style.background_gradient(cmap=cm)\n",
    "    display(hl)"
   ]
  },
  {
   "attachments": {},
   "cell_type": "markdown",
   "metadata": {},
   "source": [
    "# ОПТИМИЗАЦИЯ ЛИНЕЙНОЙ РЕГРЕССИИ\n",
    "### Для набора данных Cars Moldova"
   ]
  },
  {
   "cell_type": "code",
   "execution_count": 4,
   "metadata": {},
   "outputs": [],
   "source": [
    "# Извлекаем тестовы и тренировочные данные\n",
    "target = 'Price(euro)'\n",
    "num_cols = num_cols.drop([target])\n",
    "y = cars_df[target]\n",
    "\n",
    "X_train, X_test, y_train, y_test = train_test_split(cars_df[np.append(num_cols, cat_cols)],\n",
    "                                                    y, \n",
    "                                                    test_size=0.2, \n",
    "                                                    random_state=RANDOM_STATE)"
   ]
  },
  {
   "cell_type": "code",
   "execution_count": 5,
   "metadata": {},
   "outputs": [],
   "source": [
    "# Создаем обработчик данных\n",
    "num_imputer = SimpleImputer(strategy='median')\n",
    "cat_imputer = SimpleImputer(strategy='most_frequent')\n",
    "\n",
    "num_norm_scaler = MinMaxScaler()\n",
    "num_std_scaler = StandardScaler()\n",
    "cat_encoder = OneHotEncoder(drop='if_binary', handle_unknown='ignore', sparse=False)\n",
    "\n",
    "num_pca = PCA()\n",
    "\n",
    "num_norm_pipe = Pipeline([\n",
    "    ('num_imputer', num_imputer), \n",
    "    ('num_norm_scaler', num_std_scaler),\n",
    "    ('num_pca', num_pca)\n",
    "    ])\n",
    "cat_pipe = Pipeline([('cat_imputer', cat_imputer), ('cat_encoder', cat_encoder)])\n",
    "\n",
    "preproccessing = ColumnTransformer(transformers=[\n",
    "    ('num_norm_pipe', num_norm_pipe, num_cols),\n",
    "    ('cat_pipe', cat_pipe, cat_cols)\n",
    "])"
   ]
  },
  {
   "cell_type": "code",
   "execution_count": 6,
   "metadata": {},
   "outputs": [],
   "source": [
    "# Создаем полный пайплайн\n",
    "\n",
    "model_pipe = Pipeline([\n",
    "    ('preproccessing', preproccessing), \n",
    "    ('model', LinearRegression(fit_intercept=True))\n",
    "    ])"
   ]
  },
  {
   "cell_type": "code",
   "execution_count": 7,
   "metadata": {},
   "outputs": [
    {
     "name": "stdout",
     "output_type": "stream",
     "text": [
      "Fitting 5 folds for each of 4 candidates, totalling 20 fits\n",
      "[CV] END preproccessing__num_norm_pipe__num_pca__n_components=1; total time=   0.7s\n",
      "[CV] END preproccessing__num_norm_pipe__num_pca__n_components=1; total time=   0.7s\n",
      "[CV] END preproccessing__num_norm_pipe__num_pca__n_components=1; total time=   0.7s\n",
      "[CV] END preproccessing__num_norm_pipe__num_pca__n_components=1; total time=   0.8s\n",
      "[CV] END preproccessing__num_norm_pipe__num_pca__n_components=1; total time=   0.7s\n",
      "[CV] END preproccessing__num_norm_pipe__num_pca__n_components=2; total time=   0.8s\n",
      "[CV] END preproccessing__num_norm_pipe__num_pca__n_components=2; total time=   0.7s\n",
      "[CV] END preproccessing__num_norm_pipe__num_pca__n_components=2; total time=   0.8s\n",
      "[CV] END preproccessing__num_norm_pipe__num_pca__n_components=2; total time=   0.7s\n",
      "[CV] END preproccessing__num_norm_pipe__num_pca__n_components=2; total time=   0.8s\n",
      "[CV] END preproccessing__num_norm_pipe__num_pca__n_components=3; total time=   0.7s\n",
      "[CV] END preproccessing__num_norm_pipe__num_pca__n_components=3; total time=   0.8s\n",
      "[CV] END preproccessing__num_norm_pipe__num_pca__n_components=3; total time=   0.9s\n",
      "[CV] END preproccessing__num_norm_pipe__num_pca__n_components=3; total time=   0.8s\n",
      "[CV] END preproccessing__num_norm_pipe__num_pca__n_components=3; total time=   0.7s\n",
      "[CV] END preproccessing__num_norm_pipe__num_pca__n_components=4; total time=   0.4s\n",
      "[CV] END preproccessing__num_norm_pipe__num_pca__n_components=4; total time=   0.4s\n",
      "[CV] END preproccessing__num_norm_pipe__num_pca__n_components=4; total time=   0.4s\n",
      "[CV] END preproccessing__num_norm_pipe__num_pca__n_components=4; total time=   0.5s\n",
      "[CV] END preproccessing__num_norm_pipe__num_pca__n_components=4; total time=   0.8s\n"
     ]
    }
   ],
   "source": [
    "# Уже проверил что регуляризация особо не помогает, так что не будем ее проверять\n",
    "param_grid = {\n",
    "    \"preproccessing__num_norm_pipe__num_pca__n_components\": np.arange(1, 5),\n",
    "}\n",
    "\n",
    "pipe_GS = GridSearchCV(estimator = model_pipe, param_grid=param_grid, \n",
    "                       cv=ShuffleSplit(n_splits=5, random_state=RANDOM_STATE),\n",
    "                       verbose = 2)\n",
    "pipe_GS.fit(X_train, y_train);"
   ]
  },
  {
   "cell_type": "code",
   "execution_count": 8,
   "metadata": {},
   "outputs": [
    {
     "data": {
      "text/html": [
       "<style type=\"text/css\">\n",
       "#T_a846e_row0_col1, #T_a846e_row1_col1, #T_a846e_row3_col2, #T_a846e_row3_col3 {\n",
       "  background-color: #ffa500;\n",
       "  color: #000000;\n",
       "}\n",
       "#T_a846e_row0_col2 {\n",
       "  background-color: #f4e7d1;\n",
       "  color: #000000;\n",
       "}\n",
       "#T_a846e_row0_col3, #T_a846e_row2_col2, #T_a846e_row3_col1 {\n",
       "  background-color: #f3f0ee;\n",
       "  color: #000000;\n",
       "}\n",
       "#T_a846e_row1_col2 {\n",
       "  background-color: #f3ede4;\n",
       "  color: #000000;\n",
       "}\n",
       "#T_a846e_row1_col3 {\n",
       "  background-color: #f7d79f;\n",
       "  color: #000000;\n",
       "}\n",
       "#T_a846e_row2_col1 {\n",
       "  background-color: #feab14;\n",
       "  color: #000000;\n",
       "}\n",
       "#T_a846e_row2_col3 {\n",
       "  background-color: #fbbe4f;\n",
       "  color: #000000;\n",
       "}\n",
       "</style>\n",
       "<table id=\"T_a846e\">\n",
       "  <thead>\n",
       "    <tr>\n",
       "      <th class=\"blank level0\" >&nbsp;</th>\n",
       "      <th id=\"T_a846e_level0_col0\" class=\"col_heading level0 col0\" >param_preproccessing__num_norm_pipe__num_pca__n_components</th>\n",
       "      <th id=\"T_a846e_level0_col1\" class=\"col_heading level0 col1\" >mean_test_score</th>\n",
       "      <th id=\"T_a846e_level0_col2\" class=\"col_heading level0 col2\" >std_test_score</th>\n",
       "      <th id=\"T_a846e_level0_col3\" class=\"col_heading level0 col3\" >rank_test_score</th>\n",
       "    </tr>\n",
       "  </thead>\n",
       "  <tbody>\n",
       "    <tr>\n",
       "      <th id=\"T_a846e_level0_row0\" class=\"row_heading level0 row0\" >3</th>\n",
       "      <td id=\"T_a846e_row0_col0\" class=\"data row0 col0\" >4</td>\n",
       "      <td id=\"T_a846e_row0_col1\" class=\"data row0 col1\" >0.639091</td>\n",
       "      <td id=\"T_a846e_row0_col2\" class=\"data row0 col2\" >0.037287</td>\n",
       "      <td id=\"T_a846e_row0_col3\" class=\"data row0 col3\" >1</td>\n",
       "    </tr>\n",
       "    <tr>\n",
       "      <th id=\"T_a846e_level0_row1\" class=\"row_heading level0 row1\" >2</th>\n",
       "      <td id=\"T_a846e_row1_col0\" class=\"data row1 col0\" >3</td>\n",
       "      <td id=\"T_a846e_row1_col1\" class=\"data row1 col1\" >0.639037</td>\n",
       "      <td id=\"T_a846e_row1_col2\" class=\"data row1 col2\" >0.036678</td>\n",
       "      <td id=\"T_a846e_row1_col3\" class=\"data row1 col3\" >2</td>\n",
       "    </tr>\n",
       "    <tr>\n",
       "      <th id=\"T_a846e_level0_row2\" class=\"row_heading level0 row2\" >1</th>\n",
       "      <td id=\"T_a846e_row2_col0\" class=\"data row2 col0\" >2</td>\n",
       "      <td id=\"T_a846e_row2_col1\" class=\"data row2 col1\" >0.626277</td>\n",
       "      <td id=\"T_a846e_row2_col2\" class=\"data row2 col2\" >0.036357</td>\n",
       "      <td id=\"T_a846e_row2_col3\" class=\"data row2 col3\" >3</td>\n",
       "    </tr>\n",
       "    <tr>\n",
       "      <th id=\"T_a846e_level0_row3\" class=\"row_heading level0 row3\" >0</th>\n",
       "      <td id=\"T_a846e_row3_col0\" class=\"data row3 col0\" >1</td>\n",
       "      <td id=\"T_a846e_row3_col1\" class=\"data row3 col1\" >0.489789</td>\n",
       "      <td id=\"T_a846e_row3_col2\" class=\"data row3 col2\" >0.043782</td>\n",
       "      <td id=\"T_a846e_row3_col3\" class=\"data row3 col3\" >4</td>\n",
       "    </tr>\n",
       "  </tbody>\n",
       "</table>\n"
      ],
      "text/plain": [
       "<pandas.io.formats.style.Styler at 0x14f80b340>"
      ]
     },
     "metadata": {},
     "output_type": "display_data"
    }
   ],
   "source": [
    "display_cv_result(pipe_GS, params=['param_preproccessing__num_norm_pipe__num_pca__n_components'])"
   ]
  },
  {
   "cell_type": "code",
   "execution_count": 9,
   "metadata": {},
   "outputs": [
    {
     "name": "stdout",
     "output_type": "stream",
     "text": [
      "Посмотрим метрики для тренировочной выборки\n",
      "mean_squared_error: 32425223.46112475\n",
      "rmse: 5694.315012459773\n",
      "r2_score: 0.636696252398913\n"
     ]
    }
   ],
   "source": [
    "# Посмотрим метрики\n",
    "print('Посмотрим метрики для тренировочной выборки')\n",
    "y_hat = pipe_GS.best_estimator_.predict(X_train)\n",
    "display_metrics(y_hat=y_hat, y_true=y_train)"
   ]
  },
  {
   "cell_type": "code",
   "execution_count": 10,
   "metadata": {},
   "outputs": [
    {
     "data": {
      "text/html": [
       "<div>\n",
       "<style scoped>\n",
       "    .dataframe tbody tr th:only-of-type {\n",
       "        vertical-align: middle;\n",
       "    }\n",
       "\n",
       "    .dataframe tbody tr th {\n",
       "        vertical-align: top;\n",
       "    }\n",
       "\n",
       "    .dataframe thead th {\n",
       "        text-align: right;\n",
       "    }\n",
       "</style>\n",
       "<table border=\"1\" class=\"dataframe\">\n",
       "  <thead>\n",
       "    <tr style=\"text-align: right;\">\n",
       "      <th></th>\n",
       "      <th>Make</th>\n",
       "      <th>Model</th>\n",
       "      <th>Year</th>\n",
       "      <th>Style</th>\n",
       "      <th>Distance</th>\n",
       "      <th>Engine_capacity(cm3)</th>\n",
       "      <th>Fuel_type</th>\n",
       "      <th>Transmission</th>\n",
       "      <th>Price(euro)</th>\n",
       "      <th>km_year</th>\n",
       "    </tr>\n",
       "  </thead>\n",
       "  <tbody>\n",
       "    <tr>\n",
       "      <th>15630</th>\n",
       "      <td>Lexus</td>\n",
       "      <td>Rare</td>\n",
       "      <td>2018</td>\n",
       "      <td>Sedan</td>\n",
       "      <td>3821.0</td>\n",
       "      <td>3500.0</td>\n",
       "      <td>Petrol</td>\n",
       "      <td>Automatic</td>\n",
       "      <td>76900.0</td>\n",
       "      <td>955.250000</td>\n",
       "    </tr>\n",
       "    <tr>\n",
       "      <th>19736</th>\n",
       "      <td>Toyota</td>\n",
       "      <td>Land Cruiser</td>\n",
       "      <td>2019</td>\n",
       "      <td>SUV</td>\n",
       "      <td>93000.0</td>\n",
       "      <td>4500.0</td>\n",
       "      <td>Diesel</td>\n",
       "      <td>Automatic</td>\n",
       "      <td>65000.0</td>\n",
       "      <td>31000.000000</td>\n",
       "    </tr>\n",
       "    <tr>\n",
       "      <th>28153</th>\n",
       "      <td>Porsche</td>\n",
       "      <td>Cayenne</td>\n",
       "      <td>2018</td>\n",
       "      <td>SUV</td>\n",
       "      <td>32000.0</td>\n",
       "      <td>2900.0</td>\n",
       "      <td>Petrol</td>\n",
       "      <td>Automatic</td>\n",
       "      <td>79999.0</td>\n",
       "      <td>8000.000000</td>\n",
       "    </tr>\n",
       "    <tr>\n",
       "      <th>6798</th>\n",
       "      <td>Porsche</td>\n",
       "      <td>Cayenne</td>\n",
       "      <td>2017</td>\n",
       "      <td>Crossover</td>\n",
       "      <td>32932.0</td>\n",
       "      <td>2900.0</td>\n",
       "      <td>Petrol</td>\n",
       "      <td>Automatic</td>\n",
       "      <td>79900.0</td>\n",
       "      <td>6586.400000</td>\n",
       "    </tr>\n",
       "    <tr>\n",
       "      <th>5928</th>\n",
       "      <td>Audi</td>\n",
       "      <td>A8</td>\n",
       "      <td>2018</td>\n",
       "      <td>Sedan</td>\n",
       "      <td>39000.0</td>\n",
       "      <td>3000.0</td>\n",
       "      <td>Petrol</td>\n",
       "      <td>Automatic</td>\n",
       "      <td>69900.0</td>\n",
       "      <td>9750.000000</td>\n",
       "    </tr>\n",
       "    <tr>\n",
       "      <th>15166</th>\n",
       "      <td>Mercedes</td>\n",
       "      <td>GLE</td>\n",
       "      <td>2018</td>\n",
       "      <td>Crossover</td>\n",
       "      <td>35600.0</td>\n",
       "      <td>4300.0</td>\n",
       "      <td>Petrol</td>\n",
       "      <td>Automatic</td>\n",
       "      <td>68000.0</td>\n",
       "      <td>8900.000000</td>\n",
       "    </tr>\n",
       "    <tr>\n",
       "      <th>31925</th>\n",
       "      <td>BMW</td>\n",
       "      <td>Rare</td>\n",
       "      <td>2019</td>\n",
       "      <td>SUV</td>\n",
       "      <td>11000.0</td>\n",
       "      <td>4400.0</td>\n",
       "      <td>Petrol</td>\n",
       "      <td>Automatic</td>\n",
       "      <td>84999.0</td>\n",
       "      <td>3666.666667</td>\n",
       "    </tr>\n",
       "    <tr>\n",
       "      <th>6867</th>\n",
       "      <td>Audi</td>\n",
       "      <td>Q7</td>\n",
       "      <td>2017</td>\n",
       "      <td>Crossover</td>\n",
       "      <td>24700.0</td>\n",
       "      <td>3000.0</td>\n",
       "      <td>Diesel</td>\n",
       "      <td>Automatic</td>\n",
       "      <td>68900.0</td>\n",
       "      <td>4940.000000</td>\n",
       "    </tr>\n",
       "    <tr>\n",
       "      <th>7504</th>\n",
       "      <td>Land Rover</td>\n",
       "      <td>Range Rover</td>\n",
       "      <td>2018</td>\n",
       "      <td>SUV</td>\n",
       "      <td>65000.0</td>\n",
       "      <td>4400.0</td>\n",
       "      <td>Diesel</td>\n",
       "      <td>Automatic</td>\n",
       "      <td>87000.0</td>\n",
       "      <td>16250.000000</td>\n",
       "    </tr>\n",
       "    <tr>\n",
       "      <th>12169</th>\n",
       "      <td>Land Rover</td>\n",
       "      <td>Rare</td>\n",
       "      <td>2021</td>\n",
       "      <td>SUV</td>\n",
       "      <td>2700.0</td>\n",
       "      <td>3000.0</td>\n",
       "      <td>Petrol</td>\n",
       "      <td>Automatic</td>\n",
       "      <td>99000.0</td>\n",
       "      <td>2700.000000</td>\n",
       "    </tr>\n",
       "    <tr>\n",
       "      <th>23420</th>\n",
       "      <td>Lexus</td>\n",
       "      <td>Rare</td>\n",
       "      <td>2016</td>\n",
       "      <td>Crossover</td>\n",
       "      <td>74520.0</td>\n",
       "      <td>4500.0</td>\n",
       "      <td>Diesel</td>\n",
       "      <td>Automatic</td>\n",
       "      <td>69900.0</td>\n",
       "      <td>12420.000000</td>\n",
       "    </tr>\n",
       "    <tr>\n",
       "      <th>10770</th>\n",
       "      <td>Porsche</td>\n",
       "      <td>Cayenne</td>\n",
       "      <td>2018</td>\n",
       "      <td>Crossover</td>\n",
       "      <td>74800.0</td>\n",
       "      <td>2900.0</td>\n",
       "      <td>Petrol</td>\n",
       "      <td>Automatic</td>\n",
       "      <td>78999.0</td>\n",
       "      <td>18700.000000</td>\n",
       "    </tr>\n",
       "    <tr>\n",
       "      <th>8029</th>\n",
       "      <td>Mercedes</td>\n",
       "      <td>Rare</td>\n",
       "      <td>2020</td>\n",
       "      <td>SUV</td>\n",
       "      <td>14223.0</td>\n",
       "      <td>3000.0</td>\n",
       "      <td>Petrol</td>\n",
       "      <td>Automatic</td>\n",
       "      <td>85000.0</td>\n",
       "      <td>7111.500000</td>\n",
       "    </tr>\n",
       "    <tr>\n",
       "      <th>6794</th>\n",
       "      <td>Lexus</td>\n",
       "      <td>Rare</td>\n",
       "      <td>2017</td>\n",
       "      <td>SUV</td>\n",
       "      <td>60598.0</td>\n",
       "      <td>4500.0</td>\n",
       "      <td>Diesel</td>\n",
       "      <td>Automatic</td>\n",
       "      <td>75900.0</td>\n",
       "      <td>12119.600000</td>\n",
       "    </tr>\n",
       "    <tr>\n",
       "      <th>22078</th>\n",
       "      <td>Porsche</td>\n",
       "      <td>Cayenne</td>\n",
       "      <td>2016</td>\n",
       "      <td>SUV</td>\n",
       "      <td>90000.0</td>\n",
       "      <td>4134.0</td>\n",
       "      <td>Diesel</td>\n",
       "      <td>Automatic</td>\n",
       "      <td>64999.0</td>\n",
       "      <td>15000.000000</td>\n",
       "    </tr>\n",
       "    <tr>\n",
       "      <th>7305</th>\n",
       "      <td>Mercedes</td>\n",
       "      <td>GLE</td>\n",
       "      <td>2020</td>\n",
       "      <td>Crossover</td>\n",
       "      <td>14130.0</td>\n",
       "      <td>2000.0</td>\n",
       "      <td>Diesel</td>\n",
       "      <td>Automatic</td>\n",
       "      <td>69999.0</td>\n",
       "      <td>7065.000000</td>\n",
       "    </tr>\n",
       "    <tr>\n",
       "      <th>21437</th>\n",
       "      <td>Toyota</td>\n",
       "      <td>Land Cruiser</td>\n",
       "      <td>2020</td>\n",
       "      <td>SUV</td>\n",
       "      <td>22000.0</td>\n",
       "      <td>4500.0</td>\n",
       "      <td>Diesel</td>\n",
       "      <td>Automatic</td>\n",
       "      <td>72999.0</td>\n",
       "      <td>11000.000000</td>\n",
       "    </tr>\n",
       "    <tr>\n",
       "      <th>10692</th>\n",
       "      <td>Porsche</td>\n",
       "      <td>Cayenne</td>\n",
       "      <td>2019</td>\n",
       "      <td>Crossover</td>\n",
       "      <td>25048.0</td>\n",
       "      <td>3000.0</td>\n",
       "      <td>Petrol</td>\n",
       "      <td>Automatic</td>\n",
       "      <td>67900.0</td>\n",
       "      <td>8349.333333</td>\n",
       "    </tr>\n",
       "    <tr>\n",
       "      <th>28131</th>\n",
       "      <td>Land Rover</td>\n",
       "      <td>Range Rover</td>\n",
       "      <td>2018</td>\n",
       "      <td>SUV</td>\n",
       "      <td>71000.0</td>\n",
       "      <td>3000.0</td>\n",
       "      <td>Diesel</td>\n",
       "      <td>Automatic</td>\n",
       "      <td>78999.0</td>\n",
       "      <td>17750.000000</td>\n",
       "    </tr>\n",
       "    <tr>\n",
       "      <th>6382</th>\n",
       "      <td>Audi</td>\n",
       "      <td>Rare</td>\n",
       "      <td>2017</td>\n",
       "      <td>Sedan</td>\n",
       "      <td>65000.0</td>\n",
       "      <td>4000.0</td>\n",
       "      <td>Petrol</td>\n",
       "      <td>Automatic</td>\n",
       "      <td>79999.0</td>\n",
       "      <td>13000.000000</td>\n",
       "    </tr>\n",
       "  </tbody>\n",
       "</table>\n",
       "</div>"
      ],
      "text/plain": [
       "             Make         Model  Year      Style  Distance  \\\n",
       "15630       Lexus          Rare  2018      Sedan    3821.0   \n",
       "19736      Toyota  Land Cruiser  2019        SUV   93000.0   \n",
       "28153     Porsche       Cayenne  2018        SUV   32000.0   \n",
       "6798      Porsche       Cayenne  2017  Crossover   32932.0   \n",
       "5928         Audi            A8  2018      Sedan   39000.0   \n",
       "15166    Mercedes           GLE  2018  Crossover   35600.0   \n",
       "31925         BMW          Rare  2019        SUV   11000.0   \n",
       "6867         Audi            Q7  2017  Crossover   24700.0   \n",
       "7504   Land Rover   Range Rover  2018        SUV   65000.0   \n",
       "12169  Land Rover          Rare  2021        SUV    2700.0   \n",
       "23420       Lexus          Rare  2016  Crossover   74520.0   \n",
       "10770     Porsche       Cayenne  2018  Crossover   74800.0   \n",
       "8029     Mercedes          Rare  2020        SUV   14223.0   \n",
       "6794        Lexus          Rare  2017        SUV   60598.0   \n",
       "22078     Porsche       Cayenne  2016        SUV   90000.0   \n",
       "7305     Mercedes           GLE  2020  Crossover   14130.0   \n",
       "21437      Toyota  Land Cruiser  2020        SUV   22000.0   \n",
       "10692     Porsche       Cayenne  2019  Crossover   25048.0   \n",
       "28131  Land Rover   Range Rover  2018        SUV   71000.0   \n",
       "6382         Audi          Rare  2017      Sedan   65000.0   \n",
       "\n",
       "       Engine_capacity(cm3) Fuel_type Transmission  Price(euro)       km_year  \n",
       "15630                3500.0    Petrol    Automatic      76900.0    955.250000  \n",
       "19736                4500.0    Diesel    Automatic      65000.0  31000.000000  \n",
       "28153                2900.0    Petrol    Automatic      79999.0   8000.000000  \n",
       "6798                 2900.0    Petrol    Automatic      79900.0   6586.400000  \n",
       "5928                 3000.0    Petrol    Automatic      69900.0   9750.000000  \n",
       "15166                4300.0    Petrol    Automatic      68000.0   8900.000000  \n",
       "31925                4400.0    Petrol    Automatic      84999.0   3666.666667  \n",
       "6867                 3000.0    Diesel    Automatic      68900.0   4940.000000  \n",
       "7504                 4400.0    Diesel    Automatic      87000.0  16250.000000  \n",
       "12169                3000.0    Petrol    Automatic      99000.0   2700.000000  \n",
       "23420                4500.0    Diesel    Automatic      69900.0  12420.000000  \n",
       "10770                2900.0    Petrol    Automatic      78999.0  18700.000000  \n",
       "8029                 3000.0    Petrol    Automatic      85000.0   7111.500000  \n",
       "6794                 4500.0    Diesel    Automatic      75900.0  12119.600000  \n",
       "22078                4134.0    Diesel    Automatic      64999.0  15000.000000  \n",
       "7305                 2000.0    Diesel    Automatic      69999.0   7065.000000  \n",
       "21437                4500.0    Diesel    Automatic      72999.0  11000.000000  \n",
       "10692                3000.0    Petrol    Automatic      67900.0   8349.333333  \n",
       "28131                3000.0    Diesel    Automatic      78999.0  17750.000000  \n",
       "6382                 4000.0    Petrol    Automatic      79999.0  13000.000000  "
      ]
     },
     "execution_count": 10,
     "metadata": {},
     "output_type": "execute_result"
    }
   ],
   "source": [
    "# Проанализируем самые крупные ошибки\n",
    "errors = (y_hat + y_train) ** 2\n",
    "indices = pd.DataFrame(data={'mse': errors}).sort_values('mse').iloc[-100:, :].index\n",
    "\n",
    "cars_df.iloc[indices].sample(20) # В глаза сразу бросается что модель хуже всего справляется с дорогими и редкими авто\n",
    "\n",
    "# Попробуем логарифмировать цену"
   ]
  },
  {
   "cell_type": "code",
   "execution_count": 11,
   "metadata": {},
   "outputs": [],
   "source": [
    "price_power_transformer = FunctionTransformer(func=np.log1p)\n",
    "y_train_log = FunctionTransformer(func=np.log1p).fit_transform(y_train.copy())\n",
    "y_test_log = FunctionTransformer(func=np.log1p).fit_transform(y_test.copy())"
   ]
  },
  {
   "cell_type": "code",
   "execution_count": 12,
   "metadata": {},
   "outputs": [
    {
     "name": "stdout",
     "output_type": "stream",
     "text": [
      "Fitting 5 folds for each of 4 candidates, totalling 20 fits\n",
      "[CV] END preproccessing__num_norm_pipe__num_pca__n_components=1; total time=   0.9s\n",
      "[CV] END preproccessing__num_norm_pipe__num_pca__n_components=1; total time=   0.9s\n",
      "[CV] END preproccessing__num_norm_pipe__num_pca__n_components=1; total time=   0.9s\n",
      "[CV] END preproccessing__num_norm_pipe__num_pca__n_components=1; total time=   1.4s\n",
      "[CV] END preproccessing__num_norm_pipe__num_pca__n_components=1; total time=   1.3s\n",
      "[CV] END preproccessing__num_norm_pipe__num_pca__n_components=2; total time=   0.9s\n",
      "[CV] END preproccessing__num_norm_pipe__num_pca__n_components=2; total time=   0.8s\n",
      "[CV] END preproccessing__num_norm_pipe__num_pca__n_components=2; total time=   0.9s\n",
      "[CV] END preproccessing__num_norm_pipe__num_pca__n_components=2; total time=   0.8s\n",
      "[CV] END preproccessing__num_norm_pipe__num_pca__n_components=2; total time=   1.0s\n",
      "[CV] END preproccessing__num_norm_pipe__num_pca__n_components=3; total time=   0.8s\n",
      "[CV] END preproccessing__num_norm_pipe__num_pca__n_components=3; total time=   0.7s\n",
      "[CV] END preproccessing__num_norm_pipe__num_pca__n_components=3; total time=   1.0s\n",
      "[CV] END preproccessing__num_norm_pipe__num_pca__n_components=3; total time=   0.9s\n",
      "[CV] END preproccessing__num_norm_pipe__num_pca__n_components=3; total time=   1.1s\n",
      "[CV] END preproccessing__num_norm_pipe__num_pca__n_components=4; total time=   0.5s\n",
      "[CV] END preproccessing__num_norm_pipe__num_pca__n_components=4; total time=   0.6s\n",
      "[CV] END preproccessing__num_norm_pipe__num_pca__n_components=4; total time=   0.5s\n",
      "[CV] END preproccessing__num_norm_pipe__num_pca__n_components=4; total time=   0.5s\n",
      "[CV] END preproccessing__num_norm_pipe__num_pca__n_components=4; total time=   0.4s\n"
     ]
    }
   ],
   "source": [
    "param_grid = {\n",
    "    \"preproccessing__num_norm_pipe__num_pca__n_components\": np.arange(1, 5),\n",
    "}\n",
    "\n",
    "pipe_GS = GridSearchCV(estimator = model_pipe, param_grid=param_grid, \n",
    "                       cv=ShuffleSplit(n_splits=5, random_state=RANDOM_STATE),\n",
    "                       verbose = 2)\n",
    "pipe_GS.fit(X_train, y_train_log);"
   ]
  },
  {
   "cell_type": "code",
   "execution_count": 13,
   "metadata": {},
   "outputs": [
    {
     "data": {
      "text/html": [
       "<style type=\"text/css\">\n",
       "#T_83e6d_row0_col1, #T_83e6d_row3_col2, #T_83e6d_row3_col3 {\n",
       "  background-color: #ffa500;\n",
       "  color: #000000;\n",
       "}\n",
       "#T_83e6d_row0_col2 {\n",
       "  background-color: #f5e0bc;\n",
       "  color: #000000;\n",
       "}\n",
       "#T_83e6d_row0_col3, #T_83e6d_row2_col2, #T_83e6d_row3_col1 {\n",
       "  background-color: #f3f0ee;\n",
       "  color: #000000;\n",
       "}\n",
       "#T_83e6d_row1_col1 {\n",
       "  background-color: #ffa706;\n",
       "  color: #000000;\n",
       "}\n",
       "#T_83e6d_row1_col2 {\n",
       "  background-color: #f4ebdf;\n",
       "  color: #000000;\n",
       "}\n",
       "#T_83e6d_row1_col3 {\n",
       "  background-color: #f7d79f;\n",
       "  color: #000000;\n",
       "}\n",
       "#T_83e6d_row2_col1 {\n",
       "  background-color: #feab13;\n",
       "  color: #000000;\n",
       "}\n",
       "#T_83e6d_row2_col3 {\n",
       "  background-color: #fbbe4f;\n",
       "  color: #000000;\n",
       "}\n",
       "</style>\n",
       "<table id=\"T_83e6d\">\n",
       "  <thead>\n",
       "    <tr>\n",
       "      <th class=\"blank level0\" >&nbsp;</th>\n",
       "      <th id=\"T_83e6d_level0_col0\" class=\"col_heading level0 col0\" >param_preproccessing__num_norm_pipe__num_pca__n_components</th>\n",
       "      <th id=\"T_83e6d_level0_col1\" class=\"col_heading level0 col1\" >mean_test_score</th>\n",
       "      <th id=\"T_83e6d_level0_col2\" class=\"col_heading level0 col2\" >std_test_score</th>\n",
       "      <th id=\"T_83e6d_level0_col3\" class=\"col_heading level0 col3\" >rank_test_score</th>\n",
       "    </tr>\n",
       "  </thead>\n",
       "  <tbody>\n",
       "    <tr>\n",
       "      <th id=\"T_83e6d_level0_row0\" class=\"row_heading level0 row0\" >3</th>\n",
       "      <td id=\"T_83e6d_row0_col0\" class=\"data row0 col0\" >4</td>\n",
       "      <td id=\"T_83e6d_row0_col1\" class=\"data row0 col1\" >0.785922</td>\n",
       "      <td id=\"T_83e6d_row0_col2\" class=\"data row0 col2\" >0.017096</td>\n",
       "      <td id=\"T_83e6d_row0_col3\" class=\"data row0 col3\" >1</td>\n",
       "    </tr>\n",
       "    <tr>\n",
       "      <th id=\"T_83e6d_level0_row1\" class=\"row_heading level0 row1\" >2</th>\n",
       "      <td id=\"T_83e6d_row1_col0\" class=\"data row1 col0\" >3</td>\n",
       "      <td id=\"T_83e6d_row1_col1\" class=\"data row1 col1\" >0.780658</td>\n",
       "      <td id=\"T_83e6d_row1_col2\" class=\"data row1 col2\" >0.014883</td>\n",
       "      <td id=\"T_83e6d_row1_col3\" class=\"data row1 col3\" >2</td>\n",
       "    </tr>\n",
       "    <tr>\n",
       "      <th id=\"T_83e6d_level0_row2\" class=\"row_heading level0 row2\" >1</th>\n",
       "      <td id=\"T_83e6d_row2_col0\" class=\"data row2 col0\" >2</td>\n",
       "      <td id=\"T_83e6d_row2_col1\" class=\"data row2 col1\" >0.770199</td>\n",
       "      <td id=\"T_83e6d_row2_col2\" class=\"data row2 col2\" >0.013935</td>\n",
       "      <td id=\"T_83e6d_row2_col3\" class=\"data row2 col3\" >3</td>\n",
       "    </tr>\n",
       "    <tr>\n",
       "      <th id=\"T_83e6d_level0_row3\" class=\"row_heading level0 row3\" >0</th>\n",
       "      <td id=\"T_83e6d_row3_col0\" class=\"data row3 col0\" >1</td>\n",
       "      <td id=\"T_83e6d_row3_col1\" class=\"data row3 col1\" >0.589827</td>\n",
       "      <td id=\"T_83e6d_row3_col2\" class=\"data row3 col2\" >0.028758</td>\n",
       "      <td id=\"T_83e6d_row3_col3\" class=\"data row3 col3\" >4</td>\n",
       "    </tr>\n",
       "  </tbody>\n",
       "</table>\n"
      ],
      "text/plain": [
       "<pandas.io.formats.style.Styler at 0x14f80b700>"
      ]
     },
     "metadata": {},
     "output_type": "display_data"
    }
   ],
   "source": [
    "display_cv_result(pipe_GS, params=['param_preproccessing__num_norm_pipe__num_pca__n_components'])\n",
    "# Наблюдаем улучшение качества"
   ]
  },
  {
   "cell_type": "code",
   "execution_count": 14,
   "metadata": {},
   "outputs": [
    {
     "name": "stdout",
     "output_type": "stream",
     "text": [
      "Посмотрим метрики для тренировочной выборки\n",
      "mean_squared_error: 23100355.94279054\n",
      "rmse: 4806.282965326796\n",
      "r2_score: 0.7411753878891008\n",
      "Посмотрим метрики для тестовой выборки\n",
      "mean_squared_error: 25258360.213434663\n",
      "rmse: 5025.769614042675\n",
      "r2_score: 0.7401962736409036\n"
     ]
    }
   ],
   "source": [
    "# Посмотрим метрики\n",
    "print('Посмотрим метрики для тренировочной выборки')\n",
    "y_hat = pipe_GS.best_estimator_.predict(X_train)\n",
    "display_metrics(y_hat=np.e ** y_hat, y_true=y_train)\n",
    "\n",
    "print('Посмотрим метрики для тестовой выборки')\n",
    "y_hat = pipe_GS.best_estimator_.predict(X_test)\n",
    "display_metrics(y_hat=np.e ** y_hat, y_true=y_test)\n",
    "# Действительно качество улучшилось"
   ]
  },
  {
   "cell_type": "code",
   "execution_count": 15,
   "metadata": {},
   "outputs": [
    {
     "data": {
      "text/plain": [
       "Text(0.5, 1.0, 'Распределение цены после логарифмирования')"
      ]
     },
     "execution_count": 15,
     "metadata": {},
     "output_type": "execute_result"
    },
    {
     "data": {
      "image/png": "[encoded data removed]",
      "text/plain": [
       "<Figure size 1200x800 with 2 Axes>"
      ]
     },
     "metadata": {},
     "output_type": "display_data"
    }
   ],
   "source": [
    "# Проанализируем на проблемные экземпляры, после логарифмирование цены\n",
    "y_hat = pipe_GS.best_estimator_.predict(X_train)\n",
    "errors = (np.e ** y_hat + y_train) ** 2\n",
    "\n",
    "indices = pd.DataFrame(data={'mse': errors}).sort_values(by='mse').iloc[-100:, :].index\n",
    "\n",
    "cars_df.iloc[indices].sample(20) # Видим что проблема все еще актуальна, в основном модель ошибается с машинами которые сильно дороже медианы и у которых небольшой пробег\n",
    "\n",
    "# почему помогло логарифмирование\n",
    "fig = plt.figure(figsize=(12, 8))\n",
    "plt.subplot(121); plt.hist(cars_df[target], bins=20)\n",
    "plt.gca().set_xlabel('цена в EUR')\n",
    "plt.title('Изначальное распределение цены') \n",
    "plt.subplot(122); plt.hist(price_power_transformer.transform(cars_df[target]), bins=20)\n",
    "plt.gca().set_xlabel('ln(1 + цена в EUR)')\n",
    "plt.title('Распределение цены после логарифмирования')\n",
    "# Распределение стало более нормальным, что как-то помогло модели"
   ]
  },
  {
   "attachments": {},
   "cell_type": "markdown",
   "metadata": {},
   "source": [
    "## ОПТИМИЗАЦИЯ ЛОГИСТИЧЕСКОЙ РЕГРЕССИИ\n",
    "\n",
    "Угадываем трансмиссию"
   ]
  },
  {
   "cell_type": "code",
   "execution_count": 16,
   "metadata": {},
   "outputs": [],
   "source": [
    "# Helpers\n",
    "target = 'Transmission'\n",
    "num_cols = cars_df.select_dtypes(include=np.number).columns\n",
    "cat_cols = cars_df.select_dtypes(exclude=np.number).columns.drop(labels=target)"
   ]
  },
  {
   "cell_type": "code",
   "execution_count": 17,
   "metadata": {},
   "outputs": [],
   "source": [
    "# Достаем данные\n",
    "target_encoder = LabelEncoder()\n",
    "y = target_encoder.fit_transform(cars_df[target])\n",
    "\n",
    "X_train, X_test, y_train, y_test = train_test_split(cars_df[np.append(num_cols, cat_cols)],\n",
    "                                                    y, \n",
    "                                                    test_size=0.3, \n",
    "                                                    random_state=RANDOM_STATE)"
   ]
  },
  {
   "cell_type": "code",
   "execution_count": 18,
   "metadata": {},
   "outputs": [],
   "source": [
    "# Подготовим предобработчики данных\n",
    "num_imputer = SimpleImputer(strategy='median')\n",
    "price_scaler = FunctionTransformer(func=np.log1p)\n",
    "min_max_scaler = MinMaxScaler()\n",
    "\n",
    "cat_imputer = SimpleImputer(strategy='most_frequent')\n",
    "cat_encoder = OneHotEncoder(drop='if_binary', handle_unknown='ignore', sparse=False)\n",
    "\n",
    "num_pipe = Pipeline([\n",
    "    ('num_imputer', num_imputer),\n",
    "    ('min_max_scaler', min_max_scaler) \n",
    "    ])\n",
    "price_pipe = Pipeline([\n",
    "    ('num_imputer', num_imputer),\n",
    "    ('price_scaler', price_scaler) \n",
    "    ])\n",
    "cat_pipe = Pipeline([\n",
    "    ('cat_imputer', cat_imputer),\n",
    "    ('cat_encoder', cat_encoder) \n",
    "    ])\n",
    "\n",
    "preproccessing = ColumnTransformer(transformers=[\n",
    "    ('num_pipe', num_pipe, num_cols.drop('Price(euro)')),\n",
    "    ('price_pipe', price_pipe, ['Price(euro)']),\n",
    "    ('cat_pipe', cat_pipe, cat_cols)\n",
    "])\n",
    "\n",
    "model_pipe = Pipeline([\n",
    "    ('preproccessing', preproccessing),\n",
    "    ('model', LogisticRegression(solver='saga', C=0.0001, fit_intercept=True, random_state=RANDOM_STATE, max_iter=500))\n",
    "])"
   ]
  },
  {
   "cell_type": "code",
   "execution_count": 56,
   "metadata": {},
   "outputs": [
    {
     "name": "stdout",
     "output_type": "stream",
     "text": [
      "Fitting 3 folds for each of 10 candidates, totalling 30 fits\n",
      "[CV] END .................model__C=0.0001, model__penalty=l2; total time=   0.4s\n",
      "[CV] END .................model__C=0.0001, model__penalty=l2; total time=   0.4s\n",
      "[CV] END .................model__C=0.0001, model__penalty=l2; total time=   0.4s\n",
      "[CV] END .................model__C=0.0001, model__penalty=l1; total time=   0.3s\n",
      "[CV] END .................model__C=0.0001, model__penalty=l1; total time=   0.3s\n",
      "[CV] END .................model__C=0.0001, model__penalty=l1; total time=   0.3s\n",
      "[CV] END ...................model__C=0.01, model__penalty=l2; total time=   1.3s\n",
      "[CV] END ...................model__C=0.01, model__penalty=l2; total time=   1.3s\n",
      "[CV] END ...................model__C=0.01, model__penalty=l2; total time=   1.3s\n",
      "[CV] END ...................model__C=0.01, model__penalty=l1; total time=   1.2s\n",
      "[CV] END ...................model__C=0.01, model__penalty=l1; total time=   1.2s\n",
      "[CV] END ...................model__C=0.01, model__penalty=l1; total time=   1.2s\n",
      "[CV] END ....................model__C=1.0, model__penalty=l2; total time=   7.2s\n",
      "[CV] END ....................model__C=1.0, model__penalty=l2; total time=   7.0s\n",
      "[CV] END ....................model__C=1.0, model__penalty=l2; total time=   7.1s\n"
     ]
    },
    {
     "name": "stderr",
     "output_type": "stream",
     "text": [
      "/Users/pyretttt/masters/mle/env/lib/python3.9/site-packages/sklearn/linear_model/_sag.py:350: ConvergenceWarning:\n",
      "\n",
      "The max_iter was reached which means the coef_ did not converge\n",
      "\n"
     ]
    },
    {
     "name": "stdout",
     "output_type": "stream",
     "text": [
      "[CV] END ....................model__C=1.0, model__penalty=l1; total time=  14.9s\n"
     ]
    },
    {
     "name": "stderr",
     "output_type": "stream",
     "text": [
      "/Users/pyretttt/masters/mle/env/lib/python3.9/site-packages/sklearn/linear_model/_sag.py:350: ConvergenceWarning:\n",
      "\n",
      "The max_iter was reached which means the coef_ did not converge\n",
      "\n"
     ]
    },
    {
     "name": "stdout",
     "output_type": "stream",
     "text": [
      "[CV] END ....................model__C=1.0, model__penalty=l1; total time=  14.8s\n",
      "[CV] END ....................model__C=1.0, model__penalty=l1; total time=  15.0s\n"
     ]
    },
    {
     "name": "stderr",
     "output_type": "stream",
     "text": [
      "/Users/pyretttt/masters/mle/env/lib/python3.9/site-packages/sklearn/linear_model/_sag.py:350: ConvergenceWarning:\n",
      "\n",
      "The max_iter was reached which means the coef_ did not converge\n",
      "\n"
     ]
    },
    {
     "name": "stdout",
     "output_type": "stream",
     "text": [
      "[CV] END ..................model__C=100.0, model__penalty=l2; total time=  10.0s\n"
     ]
    },
    {
     "name": "stderr",
     "output_type": "stream",
     "text": [
      "/Users/pyretttt/masters/mle/env/lib/python3.9/site-packages/sklearn/linear_model/_sag.py:350: ConvergenceWarning:\n",
      "\n",
      "The max_iter was reached which means the coef_ did not converge\n",
      "\n"
     ]
    },
    {
     "name": "stdout",
     "output_type": "stream",
     "text": [
      "[CV] END ..................model__C=100.0, model__penalty=l2; total time=   9.9s\n"
     ]
    },
    {
     "name": "stderr",
     "output_type": "stream",
     "text": [
      "/Users/pyretttt/masters/mle/env/lib/python3.9/site-packages/sklearn/linear_model/_sag.py:350: ConvergenceWarning:\n",
      "\n",
      "The max_iter was reached which means the coef_ did not converge\n",
      "\n"
     ]
    },
    {
     "name": "stdout",
     "output_type": "stream",
     "text": [
      "[CV] END ..................model__C=100.0, model__penalty=l2; total time=   9.7s\n"
     ]
    },
    {
     "name": "stderr",
     "output_type": "stream",
     "text": [
      "/Users/pyretttt/masters/mle/env/lib/python3.9/site-packages/sklearn/linear_model/_sag.py:350: ConvergenceWarning:\n",
      "\n",
      "The max_iter was reached which means the coef_ did not converge\n",
      "\n"
     ]
    },
    {
     "name": "stdout",
     "output_type": "stream",
     "text": [
      "[CV] END ..................model__C=100.0, model__penalty=l1; total time=  16.6s\n"
     ]
    },
    {
     "name": "stderr",
     "output_type": "stream",
     "text": [
      "/Users/pyretttt/masters/mle/env/lib/python3.9/site-packages/sklearn/linear_model/_sag.py:350: ConvergenceWarning:\n",
      "\n",
      "The max_iter was reached which means the coef_ did not converge\n",
      "\n"
     ]
    },
    {
     "name": "stdout",
     "output_type": "stream",
     "text": [
      "[CV] END ..................model__C=100.0, model__penalty=l1; total time=  16.3s\n"
     ]
    },
    {
     "name": "stderr",
     "output_type": "stream",
     "text": [
      "/Users/pyretttt/masters/mle/env/lib/python3.9/site-packages/sklearn/linear_model/_sag.py:350: ConvergenceWarning:\n",
      "\n",
      "The max_iter was reached which means the coef_ did not converge\n",
      "\n"
     ]
    },
    {
     "name": "stdout",
     "output_type": "stream",
     "text": [
      "[CV] END ..................model__C=100.0, model__penalty=l1; total time=  16.6s\n"
     ]
    },
    {
     "name": "stderr",
     "output_type": "stream",
     "text": [
      "/Users/pyretttt/masters/mle/env/lib/python3.9/site-packages/sklearn/linear_model/_sag.py:350: ConvergenceWarning:\n",
      "\n",
      "The max_iter was reached which means the coef_ did not converge\n",
      "\n"
     ]
    },
    {
     "name": "stdout",
     "output_type": "stream",
     "text": [
      "[CV] END ................model__C=10000.0, model__penalty=l2; total time=   9.9s\n"
     ]
    },
    {
     "name": "stderr",
     "output_type": "stream",
     "text": [
      "/Users/pyretttt/masters/mle/env/lib/python3.9/site-packages/sklearn/linear_model/_sag.py:350: ConvergenceWarning:\n",
      "\n",
      "The max_iter was reached which means the coef_ did not converge\n",
      "\n"
     ]
    },
    {
     "name": "stdout",
     "output_type": "stream",
     "text": [
      "[CV] END ................model__C=10000.0, model__penalty=l2; total time=   9.8s\n"
     ]
    },
    {
     "name": "stderr",
     "output_type": "stream",
     "text": [
      "/Users/pyretttt/masters/mle/env/lib/python3.9/site-packages/sklearn/linear_model/_sag.py:350: ConvergenceWarning:\n",
      "\n",
      "The max_iter was reached which means the coef_ did not converge\n",
      "\n"
     ]
    },
    {
     "name": "stdout",
     "output_type": "stream",
     "text": [
      "[CV] END ................model__C=10000.0, model__penalty=l2; total time=   9.9s\n"
     ]
    },
    {
     "name": "stderr",
     "output_type": "stream",
     "text": [
      "/Users/pyretttt/masters/mle/env/lib/python3.9/site-packages/sklearn/linear_model/_sag.py:350: ConvergenceWarning:\n",
      "\n",
      "The max_iter was reached which means the coef_ did not converge\n",
      "\n"
     ]
    },
    {
     "name": "stdout",
     "output_type": "stream",
     "text": [
      "[CV] END ................model__C=10000.0, model__penalty=l1; total time=  15.0s\n"
     ]
    },
    {
     "name": "stderr",
     "output_type": "stream",
     "text": [
      "/Users/pyretttt/masters/mle/env/lib/python3.9/site-packages/sklearn/linear_model/_sag.py:350: ConvergenceWarning:\n",
      "\n",
      "The max_iter was reached which means the coef_ did not converge\n",
      "\n"
     ]
    },
    {
     "name": "stdout",
     "output_type": "stream",
     "text": [
      "[CV] END ................model__C=10000.0, model__penalty=l1; total time=  15.3s\n"
     ]
    },
    {
     "name": "stderr",
     "output_type": "stream",
     "text": [
      "/Users/pyretttt/masters/mle/env/lib/python3.9/site-packages/sklearn/linear_model/_sag.py:350: ConvergenceWarning:\n",
      "\n",
      "The max_iter was reached which means the coef_ did not converge\n",
      "\n"
     ]
    },
    {
     "name": "stdout",
     "output_type": "stream",
     "text": [
      "[CV] END ................model__C=10000.0, model__penalty=l1; total time=  15.3s\n"
     ]
    },
    {
     "name": "stderr",
     "output_type": "stream",
     "text": [
      "/Users/pyretttt/masters/mle/env/lib/python3.9/site-packages/sklearn/linear_model/_sag.py:350: ConvergenceWarning:\n",
      "\n",
      "The max_iter was reached which means the coef_ did not converge\n",
      "\n"
     ]
    },
    {
     "data": {
      "text/html": [
       "<style>#sk-container-id-2 {color: black;background-color: white;}#sk-container-id-2 pre{padding: 0;}#sk-container-id-2 div.sk-toggleable {background-color: white;}#sk-container-id-2 label.sk-toggleable__label {cursor: pointer;display: block;width: 100%;margin-bottom: 0;padding: 0.3em;box-sizing: border-box;text-align: center;}#sk-container-id-2 label.sk-toggleable__label-arrow:before {content: \"▸\";float: left;margin-right: 0.25em;color: #696969;}#sk-container-id-2 label.sk-toggleable__label-arrow:hover:before {color: black;}#sk-container-id-2 div.sk-estimator:hover label.sk-toggleable__label-arrow:before {color: black;}#sk-container-id-2 div.sk-toggleable__content {max-height: 0;max-width: 0;overflow: hidden;text-align: left;background-color: #f0f8ff;}#sk-container-id-2 div.sk-toggleable__content pre {margin: 0.2em;color: black;border-radius: 0.25em;background-color: #f0f8ff;}#sk-container-id-2 input.sk-toggleable__control:checked~div.sk-toggleable__content {max-height: 200px;max-width: 100%;overflow: auto;}#sk-container-id-2 input.sk-toggleable__control:checked~label.sk-toggleable__label-arrow:before {content: \"▾\";}#sk-container-id-2 div.sk-estimator input.sk-toggleable__control:checked~label.sk-toggleable__label {background-color: #d4ebff;}#sk-container-id-2 div.sk-label input.sk-toggleable__control:checked~label.sk-toggleable__label {background-color: #d4ebff;}#sk-container-id-2 input.sk-hidden--visually {border: 0;clip: rect(1px 1px 1px 1px);clip: rect(1px, 1px, 1px, 1px);height: 1px;margin: -1px;overflow: hidden;padding: 0;position: absolute;width: 1px;}#sk-container-id-2 div.sk-estimator {font-family: monospace;background-color: #f0f8ff;border: 1px dotted black;border-radius: 0.25em;box-sizing: border-box;margin-bottom: 0.5em;}#sk-container-id-2 div.sk-estimator:hover {background-color: #d4ebff;}#sk-container-id-2 div.sk-parallel-item::after {content: \"\";width: 100%;border-bottom: 1px solid gray;flex-grow: 1;}#sk-container-id-2 div.sk-label:hover label.sk-toggleable__label {background-color: #d4ebff;}#sk-container-id-2 div.sk-serial::before {content: \"\";position: absolute;border-left: 1px solid gray;box-sizing: border-box;top: 0;bottom: 0;left: 50%;z-index: 0;}#sk-container-id-2 div.sk-serial {display: flex;flex-direction: column;align-items: center;background-color: white;padding-right: 0.2em;padding-left: 0.2em;position: relative;}#sk-container-id-2 div.sk-item {position: relative;z-index: 1;}#sk-container-id-2 div.sk-parallel {display: flex;align-items: stretch;justify-content: center;background-color: white;position: relative;}#sk-container-id-2 div.sk-item::before, #sk-container-id-2 div.sk-parallel-item::before {content: \"\";position: absolute;border-left: 1px solid gray;box-sizing: border-box;top: 0;bottom: 0;left: 50%;z-index: -1;}#sk-container-id-2 div.sk-parallel-item {display: flex;flex-direction: column;z-index: 1;position: relative;background-color: white;}#sk-container-id-2 div.sk-parallel-item:first-child::after {align-self: flex-end;width: 50%;}#sk-container-id-2 div.sk-parallel-item:last-child::after {align-self: flex-start;width: 50%;}#sk-container-id-2 div.sk-parallel-item:only-child::after {width: 0;}#sk-container-id-2 div.sk-dashed-wrapped {border: 1px dashed gray;margin: 0 0.4em 0.5em 0.4em;box-sizing: border-box;padding-bottom: 0.4em;background-color: white;}#sk-container-id-2 div.sk-label label {font-family: monospace;font-weight: bold;display: inline-block;line-height: 1.2em;}#sk-container-id-2 div.sk-label-container {text-align: center;}#sk-container-id-2 div.sk-container {/* jupyter's `normalize.less` sets `[hidden] { display: none; }` but bootstrap.min.css set `[hidden] { display: none !important; }` so we also need the `!important` here to be able to override the default hidden behavior on the sphinx rendered scikit-learn.org. See: https://github.com/scikit-learn/scikit-learn/issues/21755 */display: inline-block !important;position: relative;}#sk-container-id-2 div.sk-text-repr-fallback {display: none;}</style><div id=\"sk-container-id-2\" class=\"sk-top-container\"><div class=\"sk-text-repr-fallback\"><pre>RandomizedSearchCV(cv=ShuffleSplit(n_splits=3, random_state=42, test_size=None, train_size=None),\n",
       "                   estimator=Pipeline(steps=[(&#x27;preproccessing&#x27;,\n",
       "                                              ColumnTransformer(transformers=[(&#x27;num_pipe&#x27;,\n",
       "                                                                               Pipeline(steps=[(&#x27;num_imputer&#x27;,\n",
       "                                                                                                SimpleImputer(strategy=&#x27;median&#x27;)),\n",
       "                                                                                               (&#x27;min_max_scaler&#x27;,\n",
       "                                                                                                MinMaxScaler())]),\n",
       "                                                                               Index([&#x27;Year&#x27;, &#x27;Distance&#x27;, &#x27;Engine_capacity(cm3)&#x27;, &#x27;km_year&#x27;], dtype=&#x27;o...\n",
       "                                                                                               (&#x27;cat_encoder&#x27;,\n",
       "                                                                                                OneHotEncoder(drop=&#x27;if_binary&#x27;,\n",
       "                                                                                                              handle_unknown=&#x27;ignore&#x27;,\n",
       "                                                                                                              sparse=False))]),\n",
       "                                                                               Index([&#x27;Make&#x27;, &#x27;Model&#x27;, &#x27;Style&#x27;, &#x27;Fuel_type&#x27;], dtype=&#x27;object&#x27;))])),\n",
       "                                             (&#x27;model&#x27;,\n",
       "                                              LogisticRegression(C=0.0001,\n",
       "                                                                 max_iter=500,\n",
       "                                                                 random_state=42,\n",
       "                                                                 solver=&#x27;saga&#x27;))]),\n",
       "                   param_distributions={&#x27;model__C&#x27;: array([1.e-04, 1.e-02, 1.e+00, 1.e+02, 1.e+04]),\n",
       "                                        &#x27;model__penalty&#x27;: [&#x27;l2&#x27;, &#x27;l1&#x27;]},\n",
       "                   verbose=2)</pre><b>In a Jupyter environment, please rerun this cell to show the HTML representation or trust the notebook. <br />On GitHub, the HTML representation is unable to render, please try loading this page with nbviewer.org.</b></div><div class=\"sk-container\" hidden><div class=\"sk-item sk-dashed-wrapped\"><div class=\"sk-label-container\"><div class=\"sk-label sk-toggleable\"><input class=\"sk-toggleable__control sk-hidden--visually\" id=\"sk-estimator-id-14\" type=\"checkbox\" ><label for=\"sk-estimator-id-14\" class=\"sk-toggleable__label sk-toggleable__label-arrow\">RandomizedSearchCV</label><div class=\"sk-toggleable__content\"><pre>RandomizedSearchCV(cv=ShuffleSplit(n_splits=3, random_state=42, test_size=None, train_size=None),\n",
       "                   estimator=Pipeline(steps=[(&#x27;preproccessing&#x27;,\n",
       "                                              ColumnTransformer(transformers=[(&#x27;num_pipe&#x27;,\n",
       "                                                                               Pipeline(steps=[(&#x27;num_imputer&#x27;,\n",
       "                                                                                                SimpleImputer(strategy=&#x27;median&#x27;)),\n",
       "                                                                                               (&#x27;min_max_scaler&#x27;,\n",
       "                                                                                                MinMaxScaler())]),\n",
       "                                                                               Index([&#x27;Year&#x27;, &#x27;Distance&#x27;, &#x27;Engine_capacity(cm3)&#x27;, &#x27;km_year&#x27;], dtype=&#x27;o...\n",
       "                                                                                               (&#x27;cat_encoder&#x27;,\n",
       "                                                                                                OneHotEncoder(drop=&#x27;if_binary&#x27;,\n",
       "                                                                                                              handle_unknown=&#x27;ignore&#x27;,\n",
       "                                                                                                              sparse=False))]),\n",
       "                                                                               Index([&#x27;Make&#x27;, &#x27;Model&#x27;, &#x27;Style&#x27;, &#x27;Fuel_type&#x27;], dtype=&#x27;object&#x27;))])),\n",
       "                                             (&#x27;model&#x27;,\n",
       "                                              LogisticRegression(C=0.0001,\n",
       "                                                                 max_iter=500,\n",
       "                                                                 random_state=42,\n",
       "                                                                 solver=&#x27;saga&#x27;))]),\n",
       "                   param_distributions={&#x27;model__C&#x27;: array([1.e-04, 1.e-02, 1.e+00, 1.e+02, 1.e+04]),\n",
       "                                        &#x27;model__penalty&#x27;: [&#x27;l2&#x27;, &#x27;l1&#x27;]},\n",
       "                   verbose=2)</pre></div></div></div><div class=\"sk-parallel\"><div class=\"sk-parallel-item\"><div class=\"sk-item\"><div class=\"sk-label-container\"><div class=\"sk-label sk-toggleable\"><input class=\"sk-toggleable__control sk-hidden--visually\" id=\"sk-estimator-id-15\" type=\"checkbox\" ><label for=\"sk-estimator-id-15\" class=\"sk-toggleable__label sk-toggleable__label-arrow\">estimator: Pipeline</label><div class=\"sk-toggleable__content\"><pre>Pipeline(steps=[(&#x27;preproccessing&#x27;,\n",
       "                 ColumnTransformer(transformers=[(&#x27;num_pipe&#x27;,\n",
       "                                                  Pipeline(steps=[(&#x27;num_imputer&#x27;,\n",
       "                                                                   SimpleImputer(strategy=&#x27;median&#x27;)),\n",
       "                                                                  (&#x27;min_max_scaler&#x27;,\n",
       "                                                                   MinMaxScaler())]),\n",
       "                                                  Index([&#x27;Year&#x27;, &#x27;Distance&#x27;, &#x27;Engine_capacity(cm3)&#x27;, &#x27;km_year&#x27;], dtype=&#x27;object&#x27;)),\n",
       "                                                 (&#x27;price_pipe&#x27;,\n",
       "                                                  Pipeline(steps=[(&#x27;num_imputer&#x27;,\n",
       "                                                                   SimpleImputer(strategy=&#x27;median&#x27;)),\n",
       "                                                                  (&#x27;price_scaler&#x27;,\n",
       "                                                                   FunctionTransformer(func=&lt;ufunc &#x27;log1p&#x27;&gt;))]),\n",
       "                                                  [&#x27;Price(euro)&#x27;]),\n",
       "                                                 (&#x27;cat_pipe&#x27;,\n",
       "                                                  Pipeline(steps=[(&#x27;cat_imputer&#x27;,\n",
       "                                                                   SimpleImputer(strategy=&#x27;most_frequent&#x27;)),\n",
       "                                                                  (&#x27;cat_encoder&#x27;,\n",
       "                                                                   OneHotEncoder(drop=&#x27;if_binary&#x27;,\n",
       "                                                                                 handle_unknown=&#x27;ignore&#x27;,\n",
       "                                                                                 sparse=False))]),\n",
       "                                                  Index([&#x27;Make&#x27;, &#x27;Model&#x27;, &#x27;Style&#x27;, &#x27;Fuel_type&#x27;], dtype=&#x27;object&#x27;))])),\n",
       "                (&#x27;model&#x27;,\n",
       "                 LogisticRegression(C=0.0001, max_iter=500, random_state=42,\n",
       "                                    solver=&#x27;saga&#x27;))])</pre></div></div></div><div class=\"sk-serial\"><div class=\"sk-item\"><div class=\"sk-serial\"><div class=\"sk-item sk-dashed-wrapped\"><div class=\"sk-label-container\"><div class=\"sk-label sk-toggleable\"><input class=\"sk-toggleable__control sk-hidden--visually\" id=\"sk-estimator-id-16\" type=\"checkbox\" ><label for=\"sk-estimator-id-16\" class=\"sk-toggleable__label sk-toggleable__label-arrow\">preproccessing: ColumnTransformer</label><div class=\"sk-toggleable__content\"><pre>ColumnTransformer(transformers=[(&#x27;num_pipe&#x27;,\n",
       "                                 Pipeline(steps=[(&#x27;num_imputer&#x27;,\n",
       "                                                  SimpleImputer(strategy=&#x27;median&#x27;)),\n",
       "                                                 (&#x27;min_max_scaler&#x27;,\n",
       "                                                  MinMaxScaler())]),\n",
       "                                 Index([&#x27;Year&#x27;, &#x27;Distance&#x27;, &#x27;Engine_capacity(cm3)&#x27;, &#x27;km_year&#x27;], dtype=&#x27;object&#x27;)),\n",
       "                                (&#x27;price_pipe&#x27;,\n",
       "                                 Pipeline(steps=[(&#x27;num_imputer&#x27;,\n",
       "                                                  SimpleImputer(strategy=&#x27;median&#x27;)),\n",
       "                                                 (&#x27;price_scaler&#x27;,\n",
       "                                                  FunctionTransformer(func=&lt;ufunc &#x27;log1p&#x27;&gt;))]),\n",
       "                                 [&#x27;Price(euro)&#x27;]),\n",
       "                                (&#x27;cat_pipe&#x27;,\n",
       "                                 Pipeline(steps=[(&#x27;cat_imputer&#x27;,\n",
       "                                                  SimpleImputer(strategy=&#x27;most_frequent&#x27;)),\n",
       "                                                 (&#x27;cat_encoder&#x27;,\n",
       "                                                  OneHotEncoder(drop=&#x27;if_binary&#x27;,\n",
       "                                                                handle_unknown=&#x27;ignore&#x27;,\n",
       "                                                                sparse=False))]),\n",
       "                                 Index([&#x27;Make&#x27;, &#x27;Model&#x27;, &#x27;Style&#x27;, &#x27;Fuel_type&#x27;], dtype=&#x27;object&#x27;))])</pre></div></div></div><div class=\"sk-parallel\"><div class=\"sk-parallel-item\"><div class=\"sk-item\"><div class=\"sk-label-container\"><div class=\"sk-label sk-toggleable\"><input class=\"sk-toggleable__control sk-hidden--visually\" id=\"sk-estimator-id-17\" type=\"checkbox\" ><label for=\"sk-estimator-id-17\" class=\"sk-toggleable__label sk-toggleable__label-arrow\">num_pipe</label><div class=\"sk-toggleable__content\"><pre>Index([&#x27;Year&#x27;, &#x27;Distance&#x27;, &#x27;Engine_capacity(cm3)&#x27;, &#x27;km_year&#x27;], dtype=&#x27;object&#x27;)</pre></div></div></div><div class=\"sk-serial\"><div class=\"sk-item\"><div class=\"sk-serial\"><div class=\"sk-item\"><div class=\"sk-estimator sk-toggleable\"><input class=\"sk-toggleable__control sk-hidden--visually\" id=\"sk-estimator-id-18\" type=\"checkbox\" ><label for=\"sk-estimator-id-18\" class=\"sk-toggleable__label sk-toggleable__label-arrow\">SimpleImputer</label><div class=\"sk-toggleable__content\"><pre>SimpleImputer(strategy=&#x27;median&#x27;)</pre></div></div></div><div class=\"sk-item\"><div class=\"sk-estimator sk-toggleable\"><input class=\"sk-toggleable__control sk-hidden--visually\" id=\"sk-estimator-id-19\" type=\"checkbox\" ><label for=\"sk-estimator-id-19\" class=\"sk-toggleable__label sk-toggleable__label-arrow\">MinMaxScaler</label><div class=\"sk-toggleable__content\"><pre>MinMaxScaler()</pre></div></div></div></div></div></div></div></div><div class=\"sk-parallel-item\"><div class=\"sk-item\"><div class=\"sk-label-container\"><div class=\"sk-label sk-toggleable\"><input class=\"sk-toggleable__control sk-hidden--visually\" id=\"sk-estimator-id-20\" type=\"checkbox\" ><label for=\"sk-estimator-id-20\" class=\"sk-toggleable__label sk-toggleable__label-arrow\">price_pipe</label><div class=\"sk-toggleable__content\"><pre>[&#x27;Price(euro)&#x27;]</pre></div></div></div><div class=\"sk-serial\"><div class=\"sk-item\"><div class=\"sk-serial\"><div class=\"sk-item\"><div class=\"sk-estimator sk-toggleable\"><input class=\"sk-toggleable__control sk-hidden--visually\" id=\"sk-estimator-id-21\" type=\"checkbox\" ><label for=\"sk-estimator-id-21\" class=\"sk-toggleable__label sk-toggleable__label-arrow\">SimpleImputer</label><div class=\"sk-toggleable__content\"><pre>SimpleImputer(strategy=&#x27;median&#x27;)</pre></div></div></div><div class=\"sk-item\"><div class=\"sk-estimator sk-toggleable\"><input class=\"sk-toggleable__control sk-hidden--visually\" id=\"sk-estimator-id-22\" type=\"checkbox\" ><label for=\"sk-estimator-id-22\" class=\"sk-toggleable__label sk-toggleable__label-arrow\">FunctionTransformer</label><div class=\"sk-toggleable__content\"><pre>FunctionTransformer(func=&lt;ufunc &#x27;log1p&#x27;&gt;)</pre></div></div></div></div></div></div></div></div><div class=\"sk-parallel-item\"><div class=\"sk-item\"><div class=\"sk-label-container\"><div class=\"sk-label sk-toggleable\"><input class=\"sk-toggleable__control sk-hidden--visually\" id=\"sk-estimator-id-23\" type=\"checkbox\" ><label for=\"sk-estimator-id-23\" class=\"sk-toggleable__label sk-toggleable__label-arrow\">cat_pipe</label><div class=\"sk-toggleable__content\"><pre>Index([&#x27;Make&#x27;, &#x27;Model&#x27;, &#x27;Style&#x27;, &#x27;Fuel_type&#x27;], dtype=&#x27;object&#x27;)</pre></div></div></div><div class=\"sk-serial\"><div class=\"sk-item\"><div class=\"sk-serial\"><div class=\"sk-item\"><div class=\"sk-estimator sk-toggleable\"><input class=\"sk-toggleable__control sk-hidden--visually\" id=\"sk-estimator-id-24\" type=\"checkbox\" ><label for=\"sk-estimator-id-24\" class=\"sk-toggleable__label sk-toggleable__label-arrow\">SimpleImputer</label><div class=\"sk-toggleable__content\"><pre>SimpleImputer(strategy=&#x27;most_frequent&#x27;)</pre></div></div></div><div class=\"sk-item\"><div class=\"sk-estimator sk-toggleable\"><input class=\"sk-toggleable__control sk-hidden--visually\" id=\"sk-estimator-id-25\" type=\"checkbox\" ><label for=\"sk-estimator-id-25\" class=\"sk-toggleable__label sk-toggleable__label-arrow\">OneHotEncoder</label><div class=\"sk-toggleable__content\"><pre>OneHotEncoder(drop=&#x27;if_binary&#x27;, handle_unknown=&#x27;ignore&#x27;, sparse=False)</pre></div></div></div></div></div></div></div></div></div></div><div class=\"sk-item\"><div class=\"sk-estimator sk-toggleable\"><input class=\"sk-toggleable__control sk-hidden--visually\" id=\"sk-estimator-id-26\" type=\"checkbox\" ><label for=\"sk-estimator-id-26\" class=\"sk-toggleable__label sk-toggleable__label-arrow\">LogisticRegression</label><div class=\"sk-toggleable__content\"><pre>LogisticRegression(C=0.0001, max_iter=500, random_state=42, solver=&#x27;saga&#x27;)</pre></div></div></div></div></div></div></div></div></div></div></div></div>"
      ],
      "text/plain": [
       "RandomizedSearchCV(cv=ShuffleSplit(n_splits=3, random_state=42, test_size=None, train_size=None),\n",
       "                   estimator=Pipeline(steps=[('preproccessing',\n",
       "                                              ColumnTransformer(transformers=[('num_pipe',\n",
       "                                                                               Pipeline(steps=[('num_imputer',\n",
       "                                                                                                SimpleImputer(strategy='median')),\n",
       "                                                                                               ('min_max_scaler',\n",
       "                                                                                                MinMaxScaler())]),\n",
       "                                                                               Index(['Year', 'Distance', 'Engine_capacity(cm3)', 'km_year'], dtype='o...\n",
       "                                                                                               ('cat_encoder',\n",
       "                                                                                                OneHotEncoder(drop='if_binary',\n",
       "                                                                                                              handle_unknown='ignore',\n",
       "                                                                                                              sparse=False))]),\n",
       "                                                                               Index(['Make', 'Model', 'Style', 'Fuel_type'], dtype='object'))])),\n",
       "                                             ('model',\n",
       "                                              LogisticRegression(C=0.0001,\n",
       "                                                                 max_iter=500,\n",
       "                                                                 random_state=42,\n",
       "                                                                 solver='saga'))]),\n",
       "                   param_distributions={'model__C': array([1.e-04, 1.e-02, 1.e+00, 1.e+02, 1.e+04]),\n",
       "                                        'model__penalty': ['l2', 'l1']},\n",
       "                   verbose=2)"
      ]
     },
     "execution_count": 56,
     "metadata": {},
     "output_type": "execute_result"
    }
   ],
   "source": [
    "from scipy.stats import uniform\n",
    "param_grid = {\n",
    "    \"model__C\": np.logspace(-4, 4, 5),\n",
    "    'model__penalty': ['l2', 'l1']\n",
    "}\n",
    "\n",
    "pipe_RS = RandomizedSearchCV(estimator = model_pipe, param_distributions=param_grid ,\n",
    "                             cv=ShuffleSplit(n_splits=3, random_state=42),\n",
    "                             verbose = 2)\n",
    "pipe_RS.fit(X_train, y_train)"
   ]
  },
  {
   "cell_type": "code",
   "execution_count": 20,
   "metadata": {},
   "outputs": [
    {
     "data": {
      "text/html": [
       "<style type=\"text/css\">\n",
       "#T_d1a95_row0_col2, #T_d1a95_row1_col2, #T_d1a95_row2_col2, #T_d1a95_row3_col2, #T_d1a95_row4_col2, #T_d1a95_row5_col2, #T_d1a95_row9_col4 {\n",
       "  background-color: #ffa500;\n",
       "  color: #000000;\n",
       "}\n",
       "#T_d1a95_row0_col3, #T_d1a95_row0_col4, #T_d1a95_row1_col3, #T_d1a95_row1_col4, #T_d1a95_row2_col3, #T_d1a95_row2_col4, #T_d1a95_row3_col3, #T_d1a95_row3_col4, #T_d1a95_row4_col3, #T_d1a95_row5_col3, #T_d1a95_row6_col3, #T_d1a95_row7_col3, #T_d1a95_row8_col3, #T_d1a95_row9_col2, #T_d1a95_row9_col3 {\n",
       "  background-color: #f3f0ee;\n",
       "  color: #000000;\n",
       "}\n",
       "#T_d1a95_row4_col4, #T_d1a95_row5_col4 {\n",
       "  background-color: #f8cf85;\n",
       "  color: #000000;\n",
       "}\n",
       "#T_d1a95_row6_col2 {\n",
       "  background-color: #feaa0f;\n",
       "  color: #000000;\n",
       "}\n",
       "#T_d1a95_row6_col4 {\n",
       "  background-color: #fbbe4f;\n",
       "  color: #000000;\n",
       "}\n",
       "#T_d1a95_row7_col2 {\n",
       "  background-color: #feac16;\n",
       "  color: #000000;\n",
       "}\n",
       "#T_d1a95_row7_col4 {\n",
       "  background-color: #fcb534;\n",
       "  color: #000000;\n",
       "}\n",
       "#T_d1a95_row8_col2 {\n",
       "  background-color: #fcb532;\n",
       "  color: #000000;\n",
       "}\n",
       "#T_d1a95_row8_col4 {\n",
       "  background-color: #fead1a;\n",
       "  color: #000000;\n",
       "}\n",
       "</style>\n",
       "<table id=\"T_d1a95\">\n",
       "  <thead>\n",
       "    <tr>\n",
       "      <th class=\"blank level0\" >&nbsp;</th>\n",
       "      <th id=\"T_d1a95_level0_col0\" class=\"col_heading level0 col0\" >param_model__penalty</th>\n",
       "      <th id=\"T_d1a95_level0_col1\" class=\"col_heading level0 col1\" >param_model__C</th>\n",
       "      <th id=\"T_d1a95_level0_col2\" class=\"col_heading level0 col2\" >mean_test_score</th>\n",
       "      <th id=\"T_d1a95_level0_col3\" class=\"col_heading level0 col3\" >std_test_score</th>\n",
       "      <th id=\"T_d1a95_level0_col4\" class=\"col_heading level0 col4\" >rank_test_score</th>\n",
       "    </tr>\n",
       "  </thead>\n",
       "  <tbody>\n",
       "    <tr>\n",
       "      <th id=\"T_d1a95_level0_row0\" class=\"row_heading level0 row0\" >6</th>\n",
       "      <td id=\"T_d1a95_row0_col0\" class=\"data row0 col0\" >l2</td>\n",
       "      <td id=\"T_d1a95_row0_col1\" class=\"data row0 col1\" >100.000000</td>\n",
       "      <td id=\"T_d1a95_row0_col2\" class=\"data row0 col2\" >0.848175</td>\n",
       "      <td id=\"T_d1a95_row0_col3\" class=\"data row0 col3\" >0.000000</td>\n",
       "      <td id=\"T_d1a95_row0_col4\" class=\"data row0 col4\" >1</td>\n",
       "    </tr>\n",
       "    <tr>\n",
       "      <th id=\"T_d1a95_level0_row1\" class=\"row_heading level0 row1\" >7</th>\n",
       "      <td id=\"T_d1a95_row1_col0\" class=\"data row1 col0\" >l1</td>\n",
       "      <td id=\"T_d1a95_row1_col1\" class=\"data row1 col1\" >100.000000</td>\n",
       "      <td id=\"T_d1a95_row1_col2\" class=\"data row1 col2\" >0.848175</td>\n",
       "      <td id=\"T_d1a95_row1_col3\" class=\"data row1 col3\" >0.000000</td>\n",
       "      <td id=\"T_d1a95_row1_col4\" class=\"data row1 col4\" >1</td>\n",
       "    </tr>\n",
       "    <tr>\n",
       "      <th id=\"T_d1a95_level0_row2\" class=\"row_heading level0 row2\" >8</th>\n",
       "      <td id=\"T_d1a95_row2_col0\" class=\"data row2 col0\" >l2</td>\n",
       "      <td id=\"T_d1a95_row2_col1\" class=\"data row2 col1\" >10000.000000</td>\n",
       "      <td id=\"T_d1a95_row2_col2\" class=\"data row2 col2\" >0.848175</td>\n",
       "      <td id=\"T_d1a95_row2_col3\" class=\"data row2 col3\" >0.000000</td>\n",
       "      <td id=\"T_d1a95_row2_col4\" class=\"data row2 col4\" >1</td>\n",
       "    </tr>\n",
       "    <tr>\n",
       "      <th id=\"T_d1a95_level0_row3\" class=\"row_heading level0 row3\" >9</th>\n",
       "      <td id=\"T_d1a95_row3_col0\" class=\"data row3 col0\" >l1</td>\n",
       "      <td id=\"T_d1a95_row3_col1\" class=\"data row3 col1\" >10000.000000</td>\n",
       "      <td id=\"T_d1a95_row3_col2\" class=\"data row3 col2\" >0.848175</td>\n",
       "      <td id=\"T_d1a95_row3_col3\" class=\"data row3 col3\" >0.000000</td>\n",
       "      <td id=\"T_d1a95_row3_col4\" class=\"data row3 col4\" >1</td>\n",
       "    </tr>\n",
       "    <tr>\n",
       "      <th id=\"T_d1a95_level0_row4\" class=\"row_heading level0 row4\" >4</th>\n",
       "      <td id=\"T_d1a95_row4_col0\" class=\"data row4 col0\" >l2</td>\n",
       "      <td id=\"T_d1a95_row4_col1\" class=\"data row4 col1\" >1.000000</td>\n",
       "      <td id=\"T_d1a95_row4_col2\" class=\"data row4 col2\" >0.847729</td>\n",
       "      <td id=\"T_d1a95_row4_col3\" class=\"data row4 col3\" >0.000000</td>\n",
       "      <td id=\"T_d1a95_row4_col4\" class=\"data row4 col4\" >5</td>\n",
       "    </tr>\n",
       "    <tr>\n",
       "      <th id=\"T_d1a95_level0_row5\" class=\"row_heading level0 row5\" >5</th>\n",
       "      <td id=\"T_d1a95_row5_col0\" class=\"data row5 col0\" >l1</td>\n",
       "      <td id=\"T_d1a95_row5_col1\" class=\"data row5 col1\" >1.000000</td>\n",
       "      <td id=\"T_d1a95_row5_col2\" class=\"data row5 col2\" >0.847729</td>\n",
       "      <td id=\"T_d1a95_row5_col3\" class=\"data row5 col3\" >0.000000</td>\n",
       "      <td id=\"T_d1a95_row5_col4\" class=\"data row5 col4\" >5</td>\n",
       "    </tr>\n",
       "    <tr>\n",
       "      <th id=\"T_d1a95_level0_row6\" class=\"row_heading level0 row6\" >2</th>\n",
       "      <td id=\"T_d1a95_row6_col0\" class=\"data row6 col0\" >l2</td>\n",
       "      <td id=\"T_d1a95_row6_col1\" class=\"data row6 col1\" >0.010000</td>\n",
       "      <td id=\"T_d1a95_row6_col2\" class=\"data row6 col2\" >0.829475</td>\n",
       "      <td id=\"T_d1a95_row6_col3\" class=\"data row6 col3\" >0.000000</td>\n",
       "      <td id=\"T_d1a95_row6_col4\" class=\"data row6 col4\" >7</td>\n",
       "    </tr>\n",
       "    <tr>\n",
       "      <th id=\"T_d1a95_level0_row7\" class=\"row_heading level0 row7\" >3</th>\n",
       "      <td id=\"T_d1a95_row7_col0\" class=\"data row7 col0\" >l1</td>\n",
       "      <td id=\"T_d1a95_row7_col1\" class=\"data row7 col1\" >0.010000</td>\n",
       "      <td id=\"T_d1a95_row7_col2\" class=\"data row7 col2\" >0.820570</td>\n",
       "      <td id=\"T_d1a95_row7_col3\" class=\"data row7 col3\" >0.000000</td>\n",
       "      <td id=\"T_d1a95_row7_col4\" class=\"data row7 col4\" >8</td>\n",
       "    </tr>\n",
       "    <tr>\n",
       "      <th id=\"T_d1a95_level0_row8\" class=\"row_heading level0 row8\" >0</th>\n",
       "      <td id=\"T_d1a95_row8_col0\" class=\"data row8 col0\" >l2</td>\n",
       "      <td id=\"T_d1a95_row8_col1\" class=\"data row8 col1\" >0.000100</td>\n",
       "      <td id=\"T_d1a95_row8_col2\" class=\"data row8 col2\" >0.787177</td>\n",
       "      <td id=\"T_d1a95_row8_col3\" class=\"data row8 col3\" >0.000000</td>\n",
       "      <td id=\"T_d1a95_row8_col4\" class=\"data row8 col4\" >9</td>\n",
       "    </tr>\n",
       "    <tr>\n",
       "      <th id=\"T_d1a95_level0_row9\" class=\"row_heading level0 row9\" >1</th>\n",
       "      <td id=\"T_d1a95_row9_col0\" class=\"data row9 col0\" >l1</td>\n",
       "      <td id=\"T_d1a95_row9_col1\" class=\"data row9 col1\" >0.000100</td>\n",
       "      <td id=\"T_d1a95_row9_col2\" class=\"data row9 col2\" >0.553874</td>\n",
       "      <td id=\"T_d1a95_row9_col3\" class=\"data row9 col3\" >0.000000</td>\n",
       "      <td id=\"T_d1a95_row9_col4\" class=\"data row9 col4\" >10</td>\n",
       "    </tr>\n",
       "  </tbody>\n",
       "</table>\n"
      ],
      "text/plain": [
       "<pandas.io.formats.style.Styler at 0x14fdb52b0>"
      ]
     },
     "metadata": {},
     "output_type": "display_data"
    }
   ],
   "source": [
    "display_cv_result(pipe_RS, params=['param_model__penalty', 'param_model__C']) # Неплохой результат"
   ]
  },
  {
   "cell_type": "code",
   "execution_count": 21,
   "metadata": {},
   "outputs": [
    {
     "data": {
      "text/html": [
       "<div>\n",
       "<style scoped>\n",
       "    .dataframe tbody tr th:only-of-type {\n",
       "        vertical-align: middle;\n",
       "    }\n",
       "\n",
       "    .dataframe tbody tr th {\n",
       "        vertical-align: top;\n",
       "    }\n",
       "\n",
       "    .dataframe thead th {\n",
       "        text-align: right;\n",
       "    }\n",
       "</style>\n",
       "<table border=\"1\" class=\"dataframe\">\n",
       "  <thead>\n",
       "    <tr style=\"text-align: right;\">\n",
       "      <th></th>\n",
       "      <th>Make</th>\n",
       "      <th>Model</th>\n",
       "      <th>Year</th>\n",
       "      <th>Style</th>\n",
       "      <th>Distance</th>\n",
       "      <th>Engine_capacity(cm3)</th>\n",
       "      <th>Fuel_type</th>\n",
       "      <th>Transmission</th>\n",
       "      <th>Price(euro)</th>\n",
       "      <th>km_year</th>\n",
       "    </tr>\n",
       "  </thead>\n",
       "  <tbody>\n",
       "    <tr>\n",
       "      <th>17718</th>\n",
       "      <td>Ford</td>\n",
       "      <td>Focus</td>\n",
       "      <td>2002</td>\n",
       "      <td>Universal</td>\n",
       "      <td>180000.0</td>\n",
       "      <td>200.0</td>\n",
       "      <td>Metan/Propan</td>\n",
       "      <td>Automatic</td>\n",
       "      <td>2300.0</td>\n",
       "      <td>9000.000000</td>\n",
       "    </tr>\n",
       "    <tr>\n",
       "      <th>9381</th>\n",
       "      <td>Volvo</td>\n",
       "      <td>Rare</td>\n",
       "      <td>2018</td>\n",
       "      <td>Sedan</td>\n",
       "      <td>23000.0</td>\n",
       "      <td>2000.0</td>\n",
       "      <td>Petrol</td>\n",
       "      <td>Automatic</td>\n",
       "      <td>27499.0</td>\n",
       "      <td>5750.000000</td>\n",
       "    </tr>\n",
       "    <tr>\n",
       "      <th>11852</th>\n",
       "      <td>Mercedes</td>\n",
       "      <td>C Class</td>\n",
       "      <td>2007</td>\n",
       "      <td>Sedan</td>\n",
       "      <td>250000.0</td>\n",
       "      <td>2000.0</td>\n",
       "      <td>Metan/Propan</td>\n",
       "      <td>Automatic</td>\n",
       "      <td>8200.0</td>\n",
       "      <td>16666.666667</td>\n",
       "    </tr>\n",
       "    <tr>\n",
       "      <th>18646</th>\n",
       "      <td>Honda</td>\n",
       "      <td>CR-V</td>\n",
       "      <td>2014</td>\n",
       "      <td>Crossover</td>\n",
       "      <td>138000.0</td>\n",
       "      <td>2200.0</td>\n",
       "      <td>Diesel</td>\n",
       "      <td>Automatic</td>\n",
       "      <td>19999.0</td>\n",
       "      <td>17250.000000</td>\n",
       "    </tr>\n",
       "    <tr>\n",
       "      <th>8806</th>\n",
       "      <td>Dacia</td>\n",
       "      <td>Logan</td>\n",
       "      <td>2014</td>\n",
       "      <td>Sedan</td>\n",
       "      <td>135000.0</td>\n",
       "      <td>1500.0</td>\n",
       "      <td>Diesel</td>\n",
       "      <td>Manual</td>\n",
       "      <td>5999.0</td>\n",
       "      <td>16875.000000</td>\n",
       "    </tr>\n",
       "    <tr>\n",
       "      <th>6659</th>\n",
       "      <td>KIA</td>\n",
       "      <td>Rare</td>\n",
       "      <td>2011</td>\n",
       "      <td>Hatchback</td>\n",
       "      <td>177067.0</td>\n",
       "      <td>1400.0</td>\n",
       "      <td>Diesel</td>\n",
       "      <td>Manual</td>\n",
       "      <td>5899.0</td>\n",
       "      <td>16097.000000</td>\n",
       "    </tr>\n",
       "    <tr>\n",
       "      <th>8570</th>\n",
       "      <td>Volvo</td>\n",
       "      <td>XC60</td>\n",
       "      <td>2012</td>\n",
       "      <td>Crossover</td>\n",
       "      <td>245000.0</td>\n",
       "      <td>2400.0</td>\n",
       "      <td>Diesel</td>\n",
       "      <td>Automatic</td>\n",
       "      <td>17450.0</td>\n",
       "      <td>24500.000000</td>\n",
       "    </tr>\n",
       "    <tr>\n",
       "      <th>15499</th>\n",
       "      <td>Opel</td>\n",
       "      <td>Astra</td>\n",
       "      <td>2011</td>\n",
       "      <td>Minivan</td>\n",
       "      <td>208000.0</td>\n",
       "      <td>1259.0</td>\n",
       "      <td>Diesel</td>\n",
       "      <td>Manual</td>\n",
       "      <td>6350.0</td>\n",
       "      <td>18909.090909</td>\n",
       "    </tr>\n",
       "    <tr>\n",
       "      <th>10681</th>\n",
       "      <td>Mercedes</td>\n",
       "      <td>Rare</td>\n",
       "      <td>2014</td>\n",
       "      <td>Universal</td>\n",
       "      <td>227462.0</td>\n",
       "      <td>1461.0</td>\n",
       "      <td>Diesel</td>\n",
       "      <td>Manual</td>\n",
       "      <td>8099.0</td>\n",
       "      <td>28432.750000</td>\n",
       "    </tr>\n",
       "    <tr>\n",
       "      <th>18213</th>\n",
       "      <td>Mercedes</td>\n",
       "      <td>M Class</td>\n",
       "      <td>2008</td>\n",
       "      <td>SUV</td>\n",
       "      <td>300060.0</td>\n",
       "      <td>3000.0</td>\n",
       "      <td>Diesel</td>\n",
       "      <td>Automatic</td>\n",
       "      <td>7777.0</td>\n",
       "      <td>21432.857143</td>\n",
       "    </tr>\n",
       "    <tr>\n",
       "      <th>4556</th>\n",
       "      <td>Mercedes</td>\n",
       "      <td>Vito</td>\n",
       "      <td>2010</td>\n",
       "      <td>Universal</td>\n",
       "      <td>255000.0</td>\n",
       "      <td>2200.0</td>\n",
       "      <td>Diesel</td>\n",
       "      <td>Manual</td>\n",
       "      <td>8699.0</td>\n",
       "      <td>21250.000000</td>\n",
       "    </tr>\n",
       "    <tr>\n",
       "      <th>5248</th>\n",
       "      <td>Renault</td>\n",
       "      <td>Scenic</td>\n",
       "      <td>2004</td>\n",
       "      <td>Universal</td>\n",
       "      <td>265000.0</td>\n",
       "      <td>1870.0</td>\n",
       "      <td>Diesel</td>\n",
       "      <td>Manual</td>\n",
       "      <td>3300.0</td>\n",
       "      <td>14722.222222</td>\n",
       "    </tr>\n",
       "    <tr>\n",
       "      <th>14964</th>\n",
       "      <td>Toyota</td>\n",
       "      <td>Prius</td>\n",
       "      <td>2011</td>\n",
       "      <td>Hatchback</td>\n",
       "      <td>263127.0</td>\n",
       "      <td>1800.0</td>\n",
       "      <td>Hybrid</td>\n",
       "      <td>Automatic</td>\n",
       "      <td>7199.0</td>\n",
       "      <td>23920.636364</td>\n",
       "    </tr>\n",
       "    <tr>\n",
       "      <th>6438</th>\n",
       "      <td>Skoda</td>\n",
       "      <td>Superb</td>\n",
       "      <td>2016</td>\n",
       "      <td>Sedan</td>\n",
       "      <td>226000.0</td>\n",
       "      <td>2000.0</td>\n",
       "      <td>Diesel</td>\n",
       "      <td>Automatic</td>\n",
       "      <td>20300.0</td>\n",
       "      <td>37666.666667</td>\n",
       "    </tr>\n",
       "    <tr>\n",
       "      <th>5868</th>\n",
       "      <td>Lincoln</td>\n",
       "      <td>Rare</td>\n",
       "      <td>2014</td>\n",
       "      <td>Sedan</td>\n",
       "      <td>140092.0</td>\n",
       "      <td>2000.0</td>\n",
       "      <td>Hybrid</td>\n",
       "      <td>Automatic</td>\n",
       "      <td>12499.0</td>\n",
       "      <td>17511.500000</td>\n",
       "    </tr>\n",
       "    <tr>\n",
       "      <th>14527</th>\n",
       "      <td>Toyota</td>\n",
       "      <td>Avalon</td>\n",
       "      <td>2013</td>\n",
       "      <td>Sedan</td>\n",
       "      <td>100000.0</td>\n",
       "      <td>2500.0</td>\n",
       "      <td>Hybrid</td>\n",
       "      <td>Automatic</td>\n",
       "      <td>14500.0</td>\n",
       "      <td>11111.111111</td>\n",
       "    </tr>\n",
       "    <tr>\n",
       "      <th>21251</th>\n",
       "      <td>Mercedes</td>\n",
       "      <td>Vito</td>\n",
       "      <td>2001</td>\n",
       "      <td>Universal</td>\n",
       "      <td>465000.0</td>\n",
       "      <td>2200.0</td>\n",
       "      <td>Diesel</td>\n",
       "      <td>Manual</td>\n",
       "      <td>2599.0</td>\n",
       "      <td>22142.857143</td>\n",
       "    </tr>\n",
       "    <tr>\n",
       "      <th>5331</th>\n",
       "      <td>Dacia</td>\n",
       "      <td>Logan Mcv</td>\n",
       "      <td>2014</td>\n",
       "      <td>Universal</td>\n",
       "      <td>150000.0</td>\n",
       "      <td>900.0</td>\n",
       "      <td>Petrol</td>\n",
       "      <td>Manual</td>\n",
       "      <td>4500.0</td>\n",
       "      <td>18750.000000</td>\n",
       "    </tr>\n",
       "    <tr>\n",
       "      <th>2711</th>\n",
       "      <td>Renault</td>\n",
       "      <td>Megane</td>\n",
       "      <td>2013</td>\n",
       "      <td>Minivan</td>\n",
       "      <td>222000.0</td>\n",
       "      <td>1500.0</td>\n",
       "      <td>Diesel</td>\n",
       "      <td>Manual</td>\n",
       "      <td>6999.0</td>\n",
       "      <td>24666.666667</td>\n",
       "    </tr>\n",
       "    <tr>\n",
       "      <th>17328</th>\n",
       "      <td>Nissan</td>\n",
       "      <td>Qashqai+2</td>\n",
       "      <td>2012</td>\n",
       "      <td>Crossover</td>\n",
       "      <td>171000.0</td>\n",
       "      <td>1500.0</td>\n",
       "      <td>Diesel</td>\n",
       "      <td>Manual</td>\n",
       "      <td>9100.0</td>\n",
       "      <td>17100.000000</td>\n",
       "    </tr>\n",
       "  </tbody>\n",
       "</table>\n",
       "</div>"
      ],
      "text/plain": [
       "           Make      Model  Year      Style  Distance  Engine_capacity(cm3)  \\\n",
       "17718      Ford      Focus  2002  Universal  180000.0                 200.0   \n",
       "9381      Volvo       Rare  2018      Sedan   23000.0                2000.0   \n",
       "11852  Mercedes    C Class  2007      Sedan  250000.0                2000.0   \n",
       "18646     Honda       CR-V  2014  Crossover  138000.0                2200.0   \n",
       "8806      Dacia      Logan  2014      Sedan  135000.0                1500.0   \n",
       "6659        KIA       Rare  2011  Hatchback  177067.0                1400.0   \n",
       "8570      Volvo       XC60  2012  Crossover  245000.0                2400.0   \n",
       "15499      Opel      Astra  2011    Minivan  208000.0                1259.0   \n",
       "10681  Mercedes       Rare  2014  Universal  227462.0                1461.0   \n",
       "18213  Mercedes    M Class  2008        SUV  300060.0                3000.0   \n",
       "4556   Mercedes       Vito  2010  Universal  255000.0                2200.0   \n",
       "5248    Renault     Scenic  2004  Universal  265000.0                1870.0   \n",
       "14964    Toyota      Prius  2011  Hatchback  263127.0                1800.0   \n",
       "6438      Skoda     Superb  2016      Sedan  226000.0                2000.0   \n",
       "5868    Lincoln       Rare  2014      Sedan  140092.0                2000.0   \n",
       "14527    Toyota     Avalon  2013      Sedan  100000.0                2500.0   \n",
       "21251  Mercedes       Vito  2001  Universal  465000.0                2200.0   \n",
       "5331      Dacia  Logan Mcv  2014  Universal  150000.0                 900.0   \n",
       "2711    Renault     Megane  2013    Minivan  222000.0                1500.0   \n",
       "17328    Nissan  Qashqai+2  2012  Crossover  171000.0                1500.0   \n",
       "\n",
       "          Fuel_type Transmission  Price(euro)       km_year  \n",
       "17718  Metan/Propan    Automatic       2300.0   9000.000000  \n",
       "9381         Petrol    Automatic      27499.0   5750.000000  \n",
       "11852  Metan/Propan    Automatic       8200.0  16666.666667  \n",
       "18646        Diesel    Automatic      19999.0  17250.000000  \n",
       "8806         Diesel       Manual       5999.0  16875.000000  \n",
       "6659         Diesel       Manual       5899.0  16097.000000  \n",
       "8570         Diesel    Automatic      17450.0  24500.000000  \n",
       "15499        Diesel       Manual       6350.0  18909.090909  \n",
       "10681        Diesel       Manual       8099.0  28432.750000  \n",
       "18213        Diesel    Automatic       7777.0  21432.857143  \n",
       "4556         Diesel       Manual       8699.0  21250.000000  \n",
       "5248         Diesel       Manual       3300.0  14722.222222  \n",
       "14964        Hybrid    Automatic       7199.0  23920.636364  \n",
       "6438         Diesel    Automatic      20300.0  37666.666667  \n",
       "5868         Hybrid    Automatic      12499.0  17511.500000  \n",
       "14527        Hybrid    Automatic      14500.0  11111.111111  \n",
       "21251        Diesel       Manual       2599.0  22142.857143  \n",
       "5331         Petrol       Manual       4500.0  18750.000000  \n",
       "2711         Diesel       Manual       6999.0  24666.666667  \n",
       "17328        Diesel       Manual       9100.0  17100.000000  "
      ]
     },
     "execution_count": 21,
     "metadata": {},
     "output_type": "execute_result"
    }
   ],
   "source": [
    "y_hat = pipe_RS.best_estimator_.predict(X_train)\n",
    "\n",
    "indices = np.where(y_hat != y_train)\n",
    "cars_df.iloc[indices].sample(20) # Особых закономерностей не прослеживается"
   ]
  },
  {
   "cell_type": "code",
   "execution_count": 22,
   "metadata": {},
   "outputs": [
    {
     "data": {
      "text/html": [
       "<style type=\"text/css\">\n",
       "#T_08214_row0_col0, #T_08214_row1_col1, #T_08214_row2_col2, #T_08214_row3_col3, #T_08214_row4_col4 {\n",
       "  background-color: #ffa500;\n",
       "  color: #000000;\n",
       "}\n",
       "#T_08214_row0_col1, #T_08214_row0_col2, #T_08214_row1_col0, #T_08214_row1_col3, #T_08214_row2_col4 {\n",
       "  background-color: #f3f0ee;\n",
       "  color: #000000;\n",
       "}\n",
       "#T_08214_row0_col3 {\n",
       "  background-color: #fbbe4f;\n",
       "  color: #000000;\n",
       "}\n",
       "#T_08214_row0_col4 {\n",
       "  background-color: #f8cd80;\n",
       "  color: #000000;\n",
       "}\n",
       "#T_08214_row1_col2 {\n",
       "  background-color: #f5e5cb;\n",
       "  color: #000000;\n",
       "}\n",
       "#T_08214_row1_col4 {\n",
       "  background-color: #f8cf87;\n",
       "  color: #000000;\n",
       "}\n",
       "#T_08214_row2_col0 {\n",
       "  background-color: #f6dcaf;\n",
       "  color: #000000;\n",
       "}\n",
       "#T_08214_row2_col1, #T_08214_row4_col3 {\n",
       "  background-color: #f7d495;\n",
       "  color: #000000;\n",
       "}\n",
       "#T_08214_row2_col3 {\n",
       "  background-color: #fac564;\n",
       "  color: #000000;\n",
       "}\n",
       "#T_08214_row3_col0 {\n",
       "  background-color: #fbbc4a;\n",
       "  color: #000000;\n",
       "}\n",
       "#T_08214_row3_col1 {\n",
       "  background-color: #f4ebdf;\n",
       "  color: #000000;\n",
       "}\n",
       "#T_08214_row3_col2 {\n",
       "  background-color: #f8ce81;\n",
       "  color: #000000;\n",
       "}\n",
       "#T_08214_row3_col4 {\n",
       "  background-color: #f5e3c5;\n",
       "  color: #000000;\n",
       "}\n",
       "#T_08214_row4_col0 {\n",
       "  background-color: #fac25b;\n",
       "  color: #000000;\n",
       "}\n",
       "#T_08214_row4_col1 {\n",
       "  background-color: #fac35e;\n",
       "  color: #000000;\n",
       "}\n",
       "#T_08214_row4_col2 {\n",
       "  background-color: #f3eee7;\n",
       "  color: #000000;\n",
       "}\n",
       "</style>\n",
       "<table id=\"T_08214\">\n",
       "  <thead>\n",
       "    <tr>\n",
       "      <th class=\"blank level0\" >&nbsp;</th>\n",
       "      <th id=\"T_08214_level0_col0\" class=\"col_heading level0 col0\" >Year</th>\n",
       "      <th id=\"T_08214_level0_col1\" class=\"col_heading level0 col1\" >Distance</th>\n",
       "      <th id=\"T_08214_level0_col2\" class=\"col_heading level0 col2\" >Engine_capacity(cm3)</th>\n",
       "      <th id=\"T_08214_level0_col3\" class=\"col_heading level0 col3\" >Price(euro)</th>\n",
       "      <th id=\"T_08214_level0_col4\" class=\"col_heading level0 col4\" >km_year</th>\n",
       "    </tr>\n",
       "  </thead>\n",
       "  <tbody>\n",
       "    <tr>\n",
       "      <th id=\"T_08214_level0_row0\" class=\"row_heading level0 row0\" >Year</th>\n",
       "      <td id=\"T_08214_row0_col0\" class=\"data row0 col0\" >1.000000</td>\n",
       "      <td id=\"T_08214_row0_col1\" class=\"data row0 col1\" >-0.470742</td>\n",
       "      <td id=\"T_08214_row0_col2\" class=\"data row0 col2\" >-0.074681</td>\n",
       "      <td id=\"T_08214_row0_col3\" class=\"data row0 col3\" >0.541611</td>\n",
       "      <td id=\"T_08214_row0_col4\" class=\"data row0 col4\" >0.442144</td>\n",
       "    </tr>\n",
       "    <tr>\n",
       "      <th id=\"T_08214_level0_row1\" class=\"row_heading level0 row1\" >Distance</th>\n",
       "      <td id=\"T_08214_row1_col0\" class=\"data row1 col0\" >-0.470742</td>\n",
       "      <td id=\"T_08214_row1_col1\" class=\"data row1 col1\" >1.000000</td>\n",
       "      <td id=\"T_08214_row1_col2\" class=\"data row1 col2\" >0.086505</td>\n",
       "      <td id=\"T_08214_row1_col3\" class=\"data row1 col3\" >-0.377999</td>\n",
       "      <td id=\"T_08214_row1_col4\" class=\"data row1 col4\" >0.414727</td>\n",
       "    </tr>\n",
       "    <tr>\n",
       "      <th id=\"T_08214_level0_row2\" class=\"row_heading level0 row2\" >Engine_capacity(cm3)</th>\n",
       "      <td id=\"T_08214_row2_col0\" class=\"data row2 col0\" >-0.074681</td>\n",
       "      <td id=\"T_08214_row2_col1\" class=\"data row2 col1\" >0.086505</td>\n",
       "      <td id=\"T_08214_row2_col2\" class=\"data row2 col2\" >1.000000</td>\n",
       "      <td id=\"T_08214_row2_col3\" class=\"data row2 col3\" >0.419563</td>\n",
       "      <td id=\"T_08214_row2_col4\" class=\"data row2 col4\" >-0.038783</td>\n",
       "    </tr>\n",
       "    <tr>\n",
       "      <th id=\"T_08214_level0_row3\" class=\"row_heading level0 row3\" >Price(euro)</th>\n",
       "      <td id=\"T_08214_row3_col0\" class=\"data row3 col0\" >0.541611</td>\n",
       "      <td id=\"T_08214_row3_col1\" class=\"data row3 col1\" >-0.377999</td>\n",
       "      <td id=\"T_08214_row3_col2\" class=\"data row3 col2\" >0.419563</td>\n",
       "      <td id=\"T_08214_row3_col3\" class=\"data row3 col3\" >1.000000</td>\n",
       "      <td id=\"T_08214_row3_col4\" class=\"data row3 col4\" >0.141413</td>\n",
       "    </tr>\n",
       "    <tr>\n",
       "      <th id=\"T_08214_level0_row4\" class=\"row_heading level0 row4\" >km_year</th>\n",
       "      <td id=\"T_08214_row4_col0\" class=\"data row4 col0\" >0.442144</td>\n",
       "      <td id=\"T_08214_row4_col1\" class=\"data row4 col1\" >0.414727</td>\n",
       "      <td id=\"T_08214_row4_col2\" class=\"data row4 col2\" >-0.038783</td>\n",
       "      <td id=\"T_08214_row4_col3\" class=\"data row4 col3\" >0.141413</td>\n",
       "      <td id=\"T_08214_row4_col4\" class=\"data row4 col4\" >1.000000</td>\n",
       "    </tr>\n",
       "  </tbody>\n",
       "</table>\n"
      ],
      "text/plain": [
       "<pandas.io.formats.style.Styler at 0x14eef2e20>"
      ]
     },
     "metadata": {},
     "output_type": "display_data"
    }
   ],
   "source": [
    "cov_matrix = cars_df.iloc[indices].select_dtypes(np.number).corr()\n",
    "cm = sns.light_palette(\"orange\", as_cmap=True)\n",
    "hl = cov_matrix.style.background_gradient(cmap=cm)\n",
    "display(hl) # нет ничего, что бросалось бы в глаза"
   ]
  },
  {
   "cell_type": "code",
   "execution_count": 47,
   "metadata": {},
   "outputs": [
    {
     "name": "stdout",
     "output_type": "stream",
     "text": [
      "f1_score: 0.8687819198134072\n"
     ]
    },
    {
     "data": {
      "application/vnd.plotly.v1+json": {
       "config": {
        "plotlyServerURL": "https://plot.ly"
       },
       "data": [
        {
         "alignmentgroup": "True",
         "hovertemplate": "Attribute=%{x}<br>Importance=%{marker.color}<extra></extra>",
         "legendgroup": "",
         "marker": {
          "color": [
           5.071525328458184,
           4.316048388510066,
           4.285452186377239,
           4.226859041953939,
           4.128003698498823,
           3.7513443760978533,
           3.7103329886554492,
           3.3257985833362045,
           3.129209804417597,
           2.591465819258808,
           2.5438319165086494,
           2.5358650483236347,
           2.4871246673280485,
           2.265974082965695,
           2.1647509450681,
           2.1373936883579563,
           2.0798831673421634,
           2.043970795821989,
           1.8989192163330124,
           1.8986269809288308,
           1.8916247740400856,
           1.8132297809906839,
           1.6918188348585785,
           1.6811893293152018,
           1.670843800537685,
           1.6610657601330334,
           1.6379901663183167,
           1.6296926063927852,
           1.5634234392271784,
           1.5482054886804892,
           1.468689552100974,
           1.468496450645503,
           1.4525936174662255,
           1.4192459971922706,
           1.3749625140058894,
           1.3416900839862738,
           1.2601174929108716,
           1.2214823609866046,
           1.1863641775776217,
           1.1791548484378027,
           1.1748518119041857,
           1.171169139394907,
           1.1453056688815293,
           1.1009689879387152,
           1.0463554791781704,
           1.018921002932432,
           1.0143595095585913,
           1.0000907968796893,
           0.9928027425869145,
           0.9665676228373792,
           0.9590894683681586,
           0.9318301860383191,
           0.9264256359034628,
           0.8790131458951715,
           0.872090424035349,
           0.8407197575781681,
           0.836596780821338,
           0.8317407565147351,
           0.8081554779800363,
           0.7591843541295479,
           0.7108265816161065,
           0.6749319112475649,
           0.6691391064737442,
           0.6562909244031166,
           0.6503057888198407,
           0.6345516059725653,
           0.6245852819765346,
           0.6225864501211485,
           0.6012849482626208,
           0.5935176143454018,
           0.5777700186869765,
           0.5685931584746149,
           0.5648047026562439,
           0.556048058901106,
           0.551914130803463,
           0.5509180458218258,
           0.5460730347022618,
           0.5134530637960386,
           0.47323201450073454,
           0.46740579133465293,
           0.4631669411430112,
           0.44167843552883473,
           0.4415262480954677,
           0.43015793980875616,
           0.4292177138652738,
           0.42243720561982157,
           0.4154686253096576,
           0.3982320359122736,
           0.3920088732138221,
           0.39001683171556883,
           0.3735511925032241,
           0.36951985306452273,
           0.34317888689876064,
           0.3390657763064078,
           0.336444228982334,
           0.3264255197555081,
           0.3174863920955798,
           0.305983466280608,
           0.30153435043396337,
           0.2842810123323755,
           0.27754133100576567,
           0.27342374027986344,
           0.25831218408474627,
           0.23834746631621037,
           0.2239713296447227,
           0.22272141773308,
           0.2194164917703954,
           0.19847070828019436,
           0.18938751185230498,
           0.17277703844472542,
           0.14387715765744427,
           0.13479940112231145,
           0.12498522618970688,
           0.11822761665875005,
           0.10911218567967959,
           0.10405454868923339,
           0.07731287368910612,
           0.07547236791690924,
           0.029872661970745895,
           0.025328558865571973,
           -0.010091417078815886,
           -0.05715979302478366,
           -0.08930683188858037,
           -0.10595165676641359,
           -0.11230130343517683,
           -0.11747633700550643,
           -0.11833926482493298,
           -0.12149294751405021,
           -0.1229225553101748,
           -0.12679345945229104,
           -0.1543076877142696,
           -0.1636831582553664,
           -0.16693598237312565,
           -0.17135100885293486,
           -0.17208789126319451,
           -0.1749326628231504,
           -0.19347469987989308,
           -0.23987074377491327,
           -0.2568295179383958,
           -0.2973990744368603,
           -0.3065176330273147,
           -0.35827591907256257,
           -0.37036759987944357,
           -0.3782928716221836,
           -0.39161874995825313,
           -0.46702889952376325,
           -0.47409825083512164,
           -0.48220327249099454,
           -0.5421049558685348,
           -0.5986910605512472,
           -0.6018181472242297,
           -0.6161462413861583,
           -0.623244070698053,
           -0.6263919984494233,
           -0.6328128798350539,
           -0.6652266543883991,
           -0.7053092790551531,
           -0.7386402842626175,
           -0.7503134526669621,
           -0.7631627276991537,
           -0.7761482422547245,
           -0.8365624478362591,
           -0.84922692792713,
           -0.9257358452122681,
           -0.9647229545424013,
           -1.0649423870590795,
           -1.0967324798575562,
           -1.1266324845154276,
           -1.141035177622349,
           -1.1520819690430193,
           -1.1782641149337825,
           -1.2339071013828307,
           -1.3973538365324882,
           -1.4159760461994781,
           -1.4243930326323497,
           -1.467567323977641,
           -1.6190420713352993,
           -1.6566209703080932,
           -1.6898732739775795,
           -1.9019572961949947,
           -1.9322904102454859,
           -2.1043417328107443,
           -2.144548416504189,
           -2.1658095870700853,
           -2.197165695970348,
           -2.263475145219452,
           -2.4542960326837555,
           -2.4965072125585075,
           -2.6060670248384987,
           -2.657067756422079,
           -2.6686884505383315,
           -2.911999518319635,
           -3.052296243699095,
           -3.410401583607754,
           -3.734788809638821,
           -3.8528646993518474,
           -3.866594723435906,
           -5.072310586561782,
           -5.524050318385931,
           -5.534361461998561,
           -5.890175177335844
          ],
          "coloraxis": "coloraxis",
          "pattern": {
           "shape": ""
          }
         },
         "name": "",
         "offsetgroup": "",
         "orientation": "v",
         "showlegend": false,
         "textposition": "auto",
         "type": "bar",
         "x": [
          "Fuel_type_Diesel",
          "Fuel_type_Petrol",
          "Fuel_type_Metan/Propan",
          "Model_Kangoo",
          "Model_Berlingo",
          "Make_Dacia",
          "Make_Vaz",
          "Make_GAZ",
          "Model_IS Series",
          "Model_Sandero",
          "Model_Transit Connect",
          "Model_Qashqai+2",
          "Make_Moskvich / Izh",
          "Model_Transporter",
          "Model_Urban Cruiser",
          "Style_Pickup",
          "Model_Caddy",
          "Model_80",
          "Model_Vito",
          "Model_Ceed",
          "Make_Alfa Romeo",
          "Model_Qashqai",
          "Model_Aveo",
          "Make_Skoda",
          "Model_CR-V",
          "Model_2107",
          "Model_100",
          "Model_Mondeo",
          "Model_Combo",
          "Model_CT Series",
          "Model_Polo",
          "Model_Auris",
          "Model_Meriva",
          "Model_Freelander",
          "Model_Land Cruiser",
          "Model_Rio",
          "Make_Seat",
          "Make_Fiat",
          "Model_Laguna",
          "Model_Avensis",
          "Make_Suzuki",
          "Make_Nissan",
          "Style_Microvan",
          "Style_Minivan",
          "Model_323",
          "Make_Daewoo",
          "Model_Astra",
          "Model_A5",
          "Model_206",
          "Style_Combi",
          "Model_Clio",
          "Model_Focus",
          "Model_Zafira",
          "Model_Tiguan",
          "Model_307",
          "Model_Kuga",
          "Make_Hyundai",
          "Model_Fabia",
          "Style_Universal",
          "Make_Toyota",
          "Make_Opel",
          "Make_Volkswagen",
          "Make_Ford",
          "Model_Accord",
          "Model_Corolla Verso",
          "Model_Insignia",
          "Make_Renault",
          "Model_Fiesta",
          "Make_Rare",
          "Style_Hatchback",
          "Make_Mazda",
          "Model_Rapid",
          "Model_2121niva",
          "Model_Outlander",
          "Style_Coupe",
          "Model_Sportage",
          "Style_Sedan",
          "Style_Roadster",
          "Make_Chevrolet",
          "Model_Megane",
          "Model_A6",
          "Make_Porsche",
          "Model_C-Max",
          "Distance",
          "Model_6",
          "Make_Mitsubishi",
          "Make_Mini",
          "Model_Lodgy",
          "Make_Peugeot",
          "Fuel_type_Hybrid",
          "Model_Series (W124)",
          "Model_Avensis Verso",
          "Model_C Class",
          "Model_ix35",
          "Style_Cabriolet",
          "Model_Vento",
          "Model_A4",
          "Make_Citroen",
          "Make_BMW",
          "Model_Altele",
          "Model_Duster",
          "Style_SUV",
          "Model_Civic",
          "Model_Sharan",
          "Style_Crossover",
          "Model_3 Series",
          "Model_Tucson",
          "Model_Scenic",
          "Model_Golf",
          "Make_Subaru",
          "Model_Vectra",
          "Model_Rav 4",
          "Model_B Class",
          "Model_Ibiza",
          "Make_KIA",
          "Model_Rare",
          "Model_Range Rover",
          "Model_C3",
          "Model_Range Rover Sport",
          "Model_Logan Mcv",
          "Price(euro)",
          "Model_Juke",
          "Model_Corsa",
          "Make_Volvo",
          "Make_Ssangyong",
          "Model_Passat",
          "Model_XC60",
          "Model_X3",
          "Model_Grand Scenic",
          "Model_Almera",
          "Model_Primera",
          "Model_Sorento",
          "Make_Honda",
          "Model_X-Trail",
          "Model_Matrix",
          "Model_3",
          "Model_626",
          "Make_Rover",
          "Model_Lancer",
          "Model_Corolla",
          "Model_A Class",
          "Model_Octavia",
          "Make_Jeep",
          "Model_NX Series",
          "Model_GLK Class",
          "Model_Getz",
          "Model_Fusion",
          "Model_Galant",
          "Make_Audi",
          "Make_Mercedes",
          "Model_Touran",
          "Model_Q5",
          "Model_Land Cruiser Prado",
          "Model_5 Series",
          "Make_Daihatsu",
          "Model_Jetta",
          "Make_Jaguar",
          "Model_Touareg",
          "Model_Yaris",
          "Model_Logan",
          "Make_Dodge",
          "Model_E Class",
          "Model_Santa FE",
          "Model_Accent",
          "Model_Talisman",
          "Model_Superb",
          "km_year",
          "Model_Kadjar",
          "Make_Chrysler",
          "Model_XC90",
          "Model_Passat CC",
          "Model_M Class",
          "Model_Es Series",
          "Model_GLE",
          "Model_Camry",
          "Model_GLC",
          "Model_2106",
          "Make_Land Rover",
          "Model_Avalon",
          "Model_A8",
          "Model_Sonata",
          "Model_GS Series",
          "Model_7 Series",
          "Model_C-HR",
          "Fuel_type_Plug-in Hybrid",
          "Make_Lexus",
          "Model_Micra",
          "Model_X5",
          "Model_Q7",
          "Model_RX Series",
          "Fuel_type_Electric",
          "Model_X6",
          "Model_S Class",
          "Model_Optima",
          "Make_Smart",
          "Model_Cayenne",
          "Make_Lincoln",
          "Make_Infiniti",
          "Engine_capacity(cm3)",
          "Year",
          "Model_Prius"
         ],
         "xaxis": "x",
         "y": [
          5.071525328458184,
          4.316048388510066,
          4.285452186377239,
          4.226859041953939,
          4.128003698498823,
          3.7513443760978533,
          3.7103329886554492,
          3.3257985833362045,
          3.129209804417597,
          2.591465819258808,
          2.5438319165086494,
          2.5358650483236347,
          2.4871246673280485,
          2.265974082965695,
          2.1647509450681,
          2.1373936883579563,
          2.0798831673421634,
          2.043970795821989,
          1.8989192163330124,
          1.8986269809288308,
          1.8916247740400856,
          1.8132297809906839,
          1.6918188348585785,
          1.6811893293152018,
          1.670843800537685,
          1.6610657601330334,
          1.6379901663183167,
          1.6296926063927852,
          1.5634234392271784,
          1.5482054886804892,
          1.468689552100974,
          1.468496450645503,
          1.4525936174662255,
          1.4192459971922706,
          1.3749625140058894,
          1.3416900839862738,
          1.2601174929108716,
          1.2214823609866046,
          1.1863641775776217,
          1.1791548484378027,
          1.1748518119041857,
          1.171169139394907,
          1.1453056688815293,
          1.1009689879387152,
          1.0463554791781704,
          1.018921002932432,
          1.0143595095585913,
          1.0000907968796893,
          0.9928027425869145,
          0.9665676228373792,
          0.9590894683681586,
          0.9318301860383191,
          0.9264256359034628,
          0.8790131458951715,
          0.872090424035349,
          0.8407197575781681,
          0.836596780821338,
          0.8317407565147351,
          0.8081554779800363,
          0.7591843541295479,
          0.7108265816161065,
          0.6749319112475649,
          0.6691391064737442,
          0.6562909244031166,
          0.6503057888198407,
          0.6345516059725653,
          0.6245852819765346,
          0.6225864501211485,
          0.6012849482626208,
          0.5935176143454018,
          0.5777700186869765,
          0.5685931584746149,
          0.5648047026562439,
          0.556048058901106,
          0.551914130803463,
          0.5509180458218258,
          0.5460730347022618,
          0.5134530637960386,
          0.47323201450073454,
          0.46740579133465293,
          0.4631669411430112,
          0.44167843552883473,
          0.4415262480954677,
          0.43015793980875616,
          0.4292177138652738,
          0.42243720561982157,
          0.4154686253096576,
          0.3982320359122736,
          0.3920088732138221,
          0.39001683171556883,
          0.3735511925032241,
          0.36951985306452273,
          0.34317888689876064,
          0.3390657763064078,
          0.336444228982334,
          0.3264255197555081,
          0.3174863920955798,
          0.305983466280608,
          0.30153435043396337,
          0.2842810123323755,
          0.27754133100576567,
          0.27342374027986344,
          0.25831218408474627,
          0.23834746631621037,
          0.2239713296447227,
          0.22272141773308,
          0.2194164917703954,
          0.19847070828019436,
          0.18938751185230498,
          0.17277703844472542,
          0.14387715765744427,
          0.13479940112231145,
          0.12498522618970688,
          0.11822761665875005,
          0.10911218567967959,
          0.10405454868923339,
          0.07731287368910612,
          0.07547236791690924,
          0.029872661970745895,
          0.025328558865571973,
          -0.010091417078815886,
          -0.05715979302478366,
          -0.08930683188858037,
          -0.10595165676641359,
          -0.11230130343517683,
          -0.11747633700550643,
          -0.11833926482493298,
          -0.12149294751405021,
          -0.1229225553101748,
          -0.12679345945229104,
          -0.1543076877142696,
          -0.1636831582553664,
          -0.16693598237312565,
          -0.17135100885293486,
          -0.17208789126319451,
          -0.1749326628231504,
          -0.19347469987989308,
          -0.23987074377491327,
          -0.2568295179383958,
          -0.2973990744368603,
          -0.3065176330273147,
          -0.35827591907256257,
          -0.37036759987944357,
          -0.3782928716221836,
          -0.39161874995825313,
          -0.46702889952376325,
          -0.47409825083512164,
          -0.48220327249099454,
          -0.5421049558685348,
          -0.5986910605512472,
          -0.6018181472242297,
          -0.6161462413861583,
          -0.623244070698053,
          -0.6263919984494233,
          -0.6328128798350539,
          -0.6652266543883991,
          -0.7053092790551531,
          -0.7386402842626175,
          -0.7503134526669621,
          -0.7631627276991537,
          -0.7761482422547245,
          -0.8365624478362591,
          -0.84922692792713,
          -0.9257358452122681,
          -0.9647229545424013,
          -1.0649423870590795,
          -1.0967324798575562,
          -1.1266324845154276,
          -1.141035177622349,
          -1.1520819690430193,
          -1.1782641149337825,
          -1.2339071013828307,
          -1.3973538365324882,
          -1.4159760461994781,
          -1.4243930326323497,
          -1.467567323977641,
          -1.6190420713352993,
          -1.6566209703080932,
          -1.6898732739775795,
          -1.9019572961949947,
          -1.9322904102454859,
          -2.1043417328107443,
          -2.144548416504189,
          -2.1658095870700853,
          -2.197165695970348,
          -2.263475145219452,
          -2.4542960326837555,
          -2.4965072125585075,
          -2.6060670248384987,
          -2.657067756422079,
          -2.6686884505383315,
          -2.911999518319635,
          -3.052296243699095,
          -3.410401583607754,
          -3.734788809638821,
          -3.8528646993518474,
          -3.866594723435906,
          -5.072310586561782,
          -5.524050318385931,
          -5.534361461998561,
          -5.890175177335844
         ],
         "yaxis": "y"
        }
       ],
       "layout": {
        "barmode": "relative",
        "coloraxis": {
         "colorbar": {
          "title": {
           "text": "Importance"
          }
         },
         "colorscale": [
          [
           0,
           "#000004"
          ],
          [
           0.1111111111111111,
           "#1b0c41"
          ],
          [
           0.2222222222222222,
           "#4a0c6b"
          ],
          [
           0.3333333333333333,
           "#781c6d"
          ],
          [
           0.4444444444444444,
           "#a52c60"
          ],
          [
           0.5555555555555556,
           "#cf4446"
          ],
          [
           0.6666666666666666,
           "#ed6925"
          ],
          [
           0.7777777777777778,
           "#fb9b06"
          ],
          [
           0.8888888888888888,
           "#f7d13d"
          ],
          [
           1,
           "#fcffa4"
          ]
         ]
        },
        "height": 800,
        "legend": {
         "tracegroupgap": 0
        },
        "margin": {
         "t": 60
        },
        "template": {
         "data": {
          "bar": [
           {
            "error_x": {
             "color": "#2a3f5f"
            },
            "error_y": {
             "color": "#2a3f5f"
            },
            "marker": {
             "line": {
              "color": "#E5ECF6",
              "width": 0.5
             },
             "pattern": {
              "fillmode": "overlay",
              "size": 10,
              "solidity": 0.2
             }
            },
            "type": "bar"
           }
          ],
          "barpolar": [
           {
            "marker": {
             "line": {
              "color": "#E5ECF6",
              "width": 0.5
             },
             "pattern": {
              "fillmode": "overlay",
              "size": 10,
              "solidity": 0.2
             }
            },
            "type": "barpolar"
           }
          ],
          "carpet": [
           {
            "aaxis": {
             "endlinecolor": "#2a3f5f",
             "gridcolor": "white",
             "linecolor": "white",
             "minorgridcolor": "white",
             "startlinecolor": "#2a3f5f"
            },
            "baxis": {
             "endlinecolor": "#2a3f5f",
             "gridcolor": "white",
             "linecolor": "white",
             "minorgridcolor": "white",
             "startlinecolor": "#2a3f5f"
            },
            "type": "carpet"
           }
          ],
          "choropleth": [
           {
            "colorbar": {
             "outlinewidth": 0,
             "ticks": ""
            },
            "type": "choropleth"
           }
          ],
          "contour": [
           {
            "colorbar": {
             "outlinewidth": 0,
             "ticks": ""
            },
            "colorscale": [
             [
              0,
              "#0d0887"
             ],
             [
              0.1111111111111111,
              "#46039f"
             ],
             [
              0.2222222222222222,
              "#7201a8"
             ],
             [
              0.3333333333333333,
              "#9c179e"
             ],
             [
              0.4444444444444444,
              "#bd3786"
             ],
             [
              0.5555555555555556,
              "#d8576b"
             ],
             [
              0.6666666666666666,
              "#ed7953"
             ],
             [
              0.7777777777777778,
              "#fb9f3a"
             ],
             [
              0.8888888888888888,
              "#fdca26"
             ],
             [
              1,
              "#f0f921"
             ]
            ],
            "type": "contour"
           }
          ],
          "contourcarpet": [
           {
            "colorbar": {
             "outlinewidth": 0,
             "ticks": ""
            },
            "type": "contourcarpet"
           }
          ],
          "heatmap": [
           {
            "colorbar": {
             "outlinewidth": 0,
             "ticks": ""
            },
            "colorscale": [
             [
              0,
              "#0d0887"
             ],
             [
              0.1111111111111111,
              "#46039f"
             ],
             [
              0.2222222222222222,
              "#7201a8"
             ],
             [
              0.3333333333333333,
              "#9c179e"
             ],
             [
              0.4444444444444444,
              "#bd3786"
             ],
             [
              0.5555555555555556,
              "#d8576b"
             ],
             [
              0.6666666666666666,
              "#ed7953"
             ],
             [
              0.7777777777777778,
              "#fb9f3a"
             ],
             [
              0.8888888888888888,
              "#fdca26"
             ],
             [
              1,
              "#f0f921"
             ]
            ],
            "type": "heatmap"
           }
          ],
          "heatmapgl": [
           {
            "colorbar": {
             "outlinewidth": 0,
             "ticks": ""
            },
            "colorscale": [
             [
              0,
              "#0d0887"
             ],
             [
              0.1111111111111111,
              "#46039f"
             ],
             [
              0.2222222222222222,
              "#7201a8"
             ],
             [
              0.3333333333333333,
              "#9c179e"
             ],
             [
              0.4444444444444444,
              "#bd3786"
             ],
             [
              0.5555555555555556,
              "#d8576b"
             ],
             [
              0.6666666666666666,
              "#ed7953"
             ],
             [
              0.7777777777777778,
              "#fb9f3a"
             ],
             [
              0.8888888888888888,
              "#fdca26"
             ],
             [
              1,
              "#f0f921"
             ]
            ],
            "type": "heatmapgl"
           }
          ],
          "histogram": [
           {
            "marker": {
             "pattern": {
              "fillmode": "overlay",
              "size": 10,
              "solidity": 0.2
             }
            },
            "type": "histogram"
           }
          ],
          "histogram2d": [
           {
            "colorbar": {
             "outlinewidth": 0,
             "ticks": ""
            },
            "colorscale": [
             [
              0,
              "#0d0887"
             ],
             [
              0.1111111111111111,
              "#46039f"
             ],
             [
              0.2222222222222222,
              "#7201a8"
             ],
             [
              0.3333333333333333,
              "#9c179e"
             ],
             [
              0.4444444444444444,
              "#bd3786"
             ],
             [
              0.5555555555555556,
              "#d8576b"
             ],
             [
              0.6666666666666666,
              "#ed7953"
             ],
             [
              0.7777777777777778,
              "#fb9f3a"
             ],
             [
              0.8888888888888888,
              "#fdca26"
             ],
             [
              1,
              "#f0f921"
             ]
            ],
            "type": "histogram2d"
           }
          ],
          "histogram2dcontour": [
           {
            "colorbar": {
             "outlinewidth": 0,
             "ticks": ""
            },
            "colorscale": [
             [
              0,
              "#0d0887"
             ],
             [
              0.1111111111111111,
              "#46039f"
             ],
             [
              0.2222222222222222,
              "#7201a8"
             ],
             [
              0.3333333333333333,
              "#9c179e"
             ],
             [
              0.4444444444444444,
              "#bd3786"
             ],
             [
              0.5555555555555556,
              "#d8576b"
             ],
             [
              0.6666666666666666,
              "#ed7953"
             ],
             [
              0.7777777777777778,
              "#fb9f3a"
             ],
             [
              0.8888888888888888,
              "#fdca26"
             ],
             [
              1,
              "#f0f921"
             ]
            ],
            "type": "histogram2dcontour"
           }
          ],
          "mesh3d": [
           {
            "colorbar": {
             "outlinewidth": 0,
             "ticks": ""
            },
            "type": "mesh3d"
           }
          ],
          "parcoords": [
           {
            "line": {
             "colorbar": {
              "outlinewidth": 0,
              "ticks": ""
             }
            },
            "type": "parcoords"
           }
          ],
          "pie": [
           {
            "automargin": true,
            "type": "pie"
           }
          ],
          "scatter": [
           {
            "fillpattern": {
             "fillmode": "overlay",
             "size": 10,
             "solidity": 0.2
            },
            "type": "scatter"
           }
          ],
          "scatter3d": [
           {
            "line": {
             "colorbar": {
              "outlinewidth": 0,
              "ticks": ""
             }
            },
            "marker": {
             "colorbar": {
              "outlinewidth": 0,
              "ticks": ""
             }
            },
            "type": "scatter3d"
           }
          ],
          "scattercarpet": [
           {
            "marker": {
             "colorbar": {
              "outlinewidth": 0,
              "ticks": ""
             }
            },
            "type": "scattercarpet"
           }
          ],
          "scattergeo": [
           {
            "marker": {
             "colorbar": {
              "outlinewidth": 0,
              "ticks": ""
             }
            },
            "type": "scattergeo"
           }
          ],
          "scattergl": [
           {
            "marker": {
             "colorbar": {
              "outlinewidth": 0,
              "ticks": ""
             }
            },
            "type": "scattergl"
           }
          ],
          "scattermapbox": [
           {
            "marker": {
             "colorbar": {
              "outlinewidth": 0,
              "ticks": ""
             }
            },
            "type": "scattermapbox"
           }
          ],
          "scatterpolar": [
           {
            "marker": {
             "colorbar": {
              "outlinewidth": 0,
              "ticks": ""
             }
            },
            "type": "scatterpolar"
           }
          ],
          "scatterpolargl": [
           {
            "marker": {
             "colorbar": {
              "outlinewidth": 0,
              "ticks": ""
             }
            },
            "type": "scatterpolargl"
           }
          ],
          "scatterternary": [
           {
            "marker": {
             "colorbar": {
              "outlinewidth": 0,
              "ticks": ""
             }
            },
            "type": "scatterternary"
           }
          ],
          "surface": [
           {
            "colorbar": {
             "outlinewidth": 0,
             "ticks": ""
            },
            "colorscale": [
             [
              0,
              "#0d0887"
             ],
             [
              0.1111111111111111,
              "#46039f"
             ],
             [
              0.2222222222222222,
              "#7201a8"
             ],
             [
              0.3333333333333333,
              "#9c179e"
             ],
             [
              0.4444444444444444,
              "#bd3786"
             ],
             [
              0.5555555555555556,
              "#d8576b"
             ],
             [
              0.6666666666666666,
              "#ed7953"
             ],
             [
              0.7777777777777778,
              "#fb9f3a"
             ],
             [
              0.8888888888888888,
              "#fdca26"
             ],
             [
              1,
              "#f0f921"
             ]
            ],
            "type": "surface"
           }
          ],
          "table": [
           {
            "cells": {
             "fill": {
              "color": "#EBF0F8"
             },
             "line": {
              "color": "white"
             }
            },
            "header": {
             "fill": {
              "color": "#C8D4E3"
             },
             "line": {
              "color": "white"
             }
            },
            "type": "table"
           }
          ]
         },
         "layout": {
          "annotationdefaults": {
           "arrowcolor": "#2a3f5f",
           "arrowhead": 0,
           "arrowwidth": 1
          },
          "autotypenumbers": "strict",
          "coloraxis": {
           "colorbar": {
            "outlinewidth": 0,
            "ticks": ""
           }
          },
          "colorscale": {
           "diverging": [
            [
             0,
             "#8e0152"
            ],
            [
             0.1,
             "#c51b7d"
            ],
            [
             0.2,
             "#de77ae"
            ],
            [
             0.3,
             "#f1b6da"
            ],
            [
             0.4,
             "#fde0ef"
            ],
            [
             0.5,
             "#f7f7f7"
            ],
            [
             0.6,
             "#e6f5d0"
            ],
            [
             0.7,
             "#b8e186"
            ],
            [
             0.8,
             "#7fbc41"
            ],
            [
             0.9,
             "#4d9221"
            ],
            [
             1,
             "#276419"
            ]
           ],
           "sequential": [
            [
             0,
             "#0d0887"
            ],
            [
             0.1111111111111111,
             "#46039f"
            ],
            [
             0.2222222222222222,
             "#7201a8"
            ],
            [
             0.3333333333333333,
             "#9c179e"
            ],
            [
             0.4444444444444444,
             "#bd3786"
            ],
            [
             0.5555555555555556,
             "#d8576b"
            ],
            [
             0.6666666666666666,
             "#ed7953"
            ],
            [
             0.7777777777777778,
             "#fb9f3a"
            ],
            [
             0.8888888888888888,
             "#fdca26"
            ],
            [
             1,
             "#f0f921"
            ]
           ],
           "sequentialminus": [
            [
             0,
             "#0d0887"
            ],
            [
             0.1111111111111111,
             "#46039f"
            ],
            [
             0.2222222222222222,
             "#7201a8"
            ],
            [
             0.3333333333333333,
             "#9c179e"
            ],
            [
             0.4444444444444444,
             "#bd3786"
            ],
            [
             0.5555555555555556,
             "#d8576b"
            ],
            [
             0.6666666666666666,
             "#ed7953"
            ],
            [
             0.7777777777777778,
             "#fb9f3a"
            ],
            [
             0.8888888888888888,
             "#fdca26"
            ],
            [
             1,
             "#f0f921"
            ]
           ]
          },
          "colorway": [
           "#636efa",
           "#EF553B",
           "#00cc96",
           "#ab63fa",
           "#FFA15A",
           "#19d3f3",
           "#FF6692",
           "#B6E880",
           "#FF97FF",
           "#FECB52"
          ],
          "font": {
           "color": "#2a3f5f"
          },
          "geo": {
           "bgcolor": "white",
           "lakecolor": "white",
           "landcolor": "#E5ECF6",
           "showlakes": true,
           "showland": true,
           "subunitcolor": "white"
          },
          "hoverlabel": {
           "align": "left"
          },
          "hovermode": "closest",
          "mapbox": {
           "style": "light"
          },
          "paper_bgcolor": "white",
          "plot_bgcolor": "#E5ECF6",
          "polar": {
           "angularaxis": {
            "gridcolor": "white",
            "linecolor": "white",
            "ticks": ""
           },
           "bgcolor": "#E5ECF6",
           "radialaxis": {
            "gridcolor": "white",
            "linecolor": "white",
            "ticks": ""
           }
          },
          "scene": {
           "xaxis": {
            "backgroundcolor": "#E5ECF6",
            "gridcolor": "white",
            "gridwidth": 2,
            "linecolor": "white",
            "showbackground": true,
            "ticks": "",
            "zerolinecolor": "white"
           },
           "yaxis": {
            "backgroundcolor": "#E5ECF6",
            "gridcolor": "white",
            "gridwidth": 2,
            "linecolor": "white",
            "showbackground": true,
            "ticks": "",
            "zerolinecolor": "white"
           },
           "zaxis": {
            "backgroundcolor": "#E5ECF6",
            "gridcolor": "white",
            "gridwidth": 2,
            "linecolor": "white",
            "showbackground": true,
            "ticks": "",
            "zerolinecolor": "white"
           }
          },
          "shapedefaults": {
           "line": {
            "color": "#2a3f5f"
           }
          },
          "ternary": {
           "aaxis": {
            "gridcolor": "white",
            "linecolor": "white",
            "ticks": ""
           },
           "baxis": {
            "gridcolor": "white",
            "linecolor": "white",
            "ticks": ""
           },
           "bgcolor": "#E5ECF6",
           "caxis": {
            "gridcolor": "white",
            "linecolor": "white",
            "ticks": ""
           }
          },
          "title": {
           "x": 0.05
          },
          "xaxis": {
           "automargin": true,
           "gridcolor": "white",
           "linecolor": "white",
           "ticks": "",
           "title": {
            "standoff": 15
           },
           "zerolinecolor": "white",
           "zerolinewidth": 2
          },
          "yaxis": {
           "automargin": true,
           "gridcolor": "white",
           "linecolor": "white",
           "ticks": "",
           "title": {
            "standoff": 15
           },
           "zerolinecolor": "white",
           "zerolinewidth": 2
          }
         }
        },
        "width": 1200,
        "xaxis": {
         "anchor": "y",
         "domain": [
          0,
          1
         ],
         "rangeslider": {
          "visible": true
         },
         "title": {
          "text": "Attribute"
         }
        },
        "yaxis": {
         "anchor": "x",
         "domain": [
          0,
          1
         ],
         "title": {
          "text": "Importance"
         }
        }
       }
      }
     },
     "metadata": {},
     "output_type": "display_data"
    }
   ],
   "source": [
    "# Посмотрим метрики и веса\n",
    "\n",
    "display_metrics(y_hat=pipe_RS.best_estimator_.predict(X_train), y_true=y_train, metrics=[f1_score])\n",
    "\n",
    "importances = pd.DataFrame(data={\n",
    "    'Attribute': np.append(num_cols, pipe_RS.best_estimator_['preproccessing'].transformers_[2][1].get_feature_names_out()),\n",
    "    'Importance': pipe_RS.best_estimator_.steps[-1][-1].coef_[0]\n",
    "})\n",
    "importances = importances.sort_values(by='Importance', ascending=False)\n",
    "importances.head(10)\n",
    "\n",
    "import plotly.express as px\n",
    "\n",
    "fig=px.bar(importances, x=\"Attribute\", y=\"Importance\", color=\"Importance\", color_continuous_scale=px.colors.sequential.Inferno, width=1200, height=800)\n",
    "fig.update_layout(xaxis=dict(rangeslider=dict(visible=True)))\n"
   ]
  },
  {
   "attachments": {},
   "cell_type": "markdown",
   "metadata": {},
   "source": [
    "# Вывод по весам:\n",
    "#### 1. Приусы редко бывают с механикой, как и некоторые другие марки и модели авто. Не думаю что это хороший признак для модели чтобы на него завязываться.\n",
    "#### 2. Новые автомобили в основном с автоматом\n",
    "#### 3. Гибриды в основном с автоматом\n",
    "#### 4. Дизельные авто чаще с механикой, как и метан/пропан/ и двс. Странно почему бензиновые авто является признаком чтобы классифицировать авто как механика\n",
    "#### В целом признаки по которым определяется автомат более общие и грамотные"
   ]
  },
  {
   "cell_type": "code",
   "execution_count": 55,
   "metadata": {},
   "outputs": [
    {
     "data": {
      "text/plain": [
       "Automatic    317\n",
       "Manual         2\n",
       "Name: Transmission, dtype: int64"
      ]
     },
     "metadata": {},
     "output_type": "display_data"
    },
    {
     "data": {
      "text/plain": [
       "Manual       6357\n",
       "Automatic    4727\n",
       "Name: Transmission, dtype: int64"
      ]
     },
     "metadata": {},
     "output_type": "display_data"
    }
   ],
   "source": [
    "# Небольшое подтверждение метрик и весов\n",
    "display(cars_df[cars_df['Model'] == 'Prius']['Transmission'].value_counts())\n",
    "display(cars_df[cars_df['Fuel_type'] == 'Petrol']['Transmission'].value_counts()) # Незначительная разница, но коэффициент модели большой, это странно"
   ]
  }
 ],
 "metadata": {
  "kernelspec": {
   "display_name": "env",
   "language": "python",
   "name": "python3"
  },
  "language_info": {
   "codemirror_mode": {
    "name": "ipython",
    "version": 3
   },
   "file_extension": ".py",
   "mimetype": "text/x-python",
   "name": "python",
   "nbconvert_exporter": "python",
   "pygments_lexer": "ipython3",
   "version": "3.9.6"
  },
  "orig_nbformat": 4,
  "vscode": {
   "interpreter": {
    "hash": "237efd2621609d11cf72d55e8c072b165c66bfd0c9c6e5ae49722ecdf865a9ed"
   }
  }
 },
 "nbformat": 4,
 "nbformat_minor": 2
}
